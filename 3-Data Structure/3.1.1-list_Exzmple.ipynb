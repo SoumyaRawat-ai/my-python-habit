{
 "cells": [
  {
   "cell_type": "markdown",
   "metadata": {},
   "source": [
    "## Example 1. Manage A To DO List\n"
   ]
  },
  {
   "cell_type": "code",
   "execution_count": 10,
   "metadata": {},
   "outputs": [
    {
     "name": "stdout",
     "output_type": "stream",
     "text": [
      "Don't forget to pay the utility bills\n",
      "To_do_List Remaining\n",
      "BUy Grocery\n",
      "Pay bills\n",
      "Schedule meeting\n",
      "Go for a run\n"
     ]
    }
   ],
   "source": [
    "To_do_list=[\"BUy Grocery\",\"clean the house\", \"Pay bills\"]\n",
    "\n",
    "## Adding to task\n",
    "To_do_list.append(\"Schedule meeting\")\n",
    "To_do_list.append(\"Go for a run\")\n",
    "\n",
    "## Removing a complete task\n",
    "To_do_list.remove(\"clean the house\")\n",
    "\n",
    "## checking if a task is in the list\n",
    "if \"Pay bills\" in To_do_list:\n",
    "    print(\"Don't forget to pay the utility bills\")\n",
    "print(\"To_do_List Remaining\")\n",
    "for task in To_do_list:\n",
    "    print(f\"{task}\")"
   ]
  },
  {
   "cell_type": "markdown",
   "metadata": {},
   "source": [
    "## Organizing Student Grade\n",
    "  "
   ]
  },
  {
   "cell_type": "code",
   "execution_count": 11,
   "metadata": {},
   "outputs": [
    {
     "name": "stdout",
     "output_type": "stream",
     "text": [
      "Average Grade: 88.0\n",
      "Highest Grade : 95\n",
      "lowest Grade : 78\n"
     ]
    }
   ],
   "source": [
    "# Organizing student grades\n",
    "grades = [85, 92, 78, 90, 88]\n",
    "\n",
    "# Adding a new grade\n",
    "\n",
    "grades.append(95)\n",
    "\n",
    "# Calculate the average grade\n",
    "average_grade = sum(grades) / len(grades)\n",
    "print(f\"Average Grade: {average_grade}\")\n",
    "\n",
    "# finding the highest and lowest grades\n",
    "highest_grade = max(grades)\n",
    "lowest_grade = min(grades)\n",
    "\n",
    "print(f\"Highest Grade : {highest_grade}\")\n",
    "print(f\"lowest Grade : {lowest_grade}\")\n",
    "\n"
   ]
  },
  {
   "cell_type": "markdown",
   "metadata": {},
   "source": [
    "### Managing An Inventory"
   ]
  },
  {
   "cell_type": "code",
   "execution_count": 12,
   "metadata": {},
   "outputs": [
    {
     "name": "stdout",
     "output_type": "stream",
     "text": [
      "orange are in the stock\n",
      "Inventory list :\n",
      "- apple\n",
      "- orange\n",
      "- grapes\n",
      "- Strawberries\n"
     ]
    }
   ],
   "source": [
    "# Managing an inventory\n",
    "inventory = [\"apple\", \"bananas\", \"orange\", \"grapes\"]\n",
    "\n",
    "#Adding items\n",
    "inventory.append(\"Strawberries\")\n",
    "\n",
    "# Removing an item that is out of stock\n",
    "inventory.remove(\"bananas\")\n",
    "\n",
    "# checking the item in the stock\n",
    "item = \"orange\"\n",
    "if item in inventory:\n",
    "    print(f\"{item} are in the stock\")\n",
    "else:\n",
    "    print(f\"{item} are out of stock.\")\n",
    "\n",
    "#print the inventory\n",
    "print(\"Inventory list :\")\n",
    "for item in inventory:\n",
    "    print(f\"- {item}\")\n"
   ]
  },
  {
   "cell_type": "markdown",
   "metadata": {},
   "source": [
    "#### use a list to collect and analyze user feedback "
   ]
  },
  {
   "cell_type": "code",
   "execution_count": 13,
   "metadata": {},
   "outputs": [
    {
     "name": "stdout",
     "output_type": "stream",
     "text": [
      "Positive Feedback count: 2\n",
      "User Feedback:\n",
      "- Great service\n",
      "- very satisfied\n",
      "- Could be better\n",
      "- Excellent experience\n",
      "- Not happy with the service\n"
     ]
    }
   ],
   "source": [
    "# Collect user feedback\n",
    "feedback = [\"Great service\", \"very satisfied\", \"Could be better\", \"Excellent experience\"]\n",
    "\n",
    "# Adding new feedback\n",
    "feedback.append(\"Not happy with the service\")\n",
    "\n",
    "# Counting specific feedback\n",
    "positive_feedback_count = sum(1 for comment in feedback if \"great\" in comment.lower() or \"excellent\" in comment.lower())\n",
    "print(f\"Positive Feedback count: {positive_feedback_count}\")\n",
    "\n",
    "#printing all feedback\n",
    "print(\"User Feedback:\")\n",
    "for item in feedback:\n",
    "    print(f\"- {item}\")"
   ]
  },
  {
   "cell_type": "code",
   "execution_count": null,
   "metadata": {},
   "outputs": [],
   "source": []
  }
 ],
 "metadata": {
  "kernelspec": {
   "display_name": "Python 3",
   "language": "python",
   "name": "python3"
  },
  "language_info": {
   "codemirror_mode": {
    "name": "ipython",
    "version": 3
   },
   "file_extension": ".py",
   "mimetype": "text/x-python",
   "name": "python",
   "nbconvert_exporter": "python",
   "pygments_lexer": "ipython3",
   "version": "3.13.0"
  }
 },
 "nbformat": 4,
 "nbformat_minor": 2
}
