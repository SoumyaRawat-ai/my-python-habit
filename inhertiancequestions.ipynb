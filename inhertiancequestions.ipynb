{
 "cells": [
  {
   "cell_type": "markdown",
   "metadata": {},
   "source": [
    "# Module: Inheritance Assignments\n",
    "## Lesson: Single and Multiple Inheritance\n",
    "### Assignment 1: Single Inheritance Basic\n",
    "\n",
    "Create a base class named `Animal` with attributes `name` and `species`. Create a derived class named `Dog` that inherits from `Animal` and adds an attribute `breed`. Create an object of the `Dog` class and print its attributes.\n",
    "\n",
    "### Assignment 2: Method Overriding in Single Inheritance\n",
    "\n",
    "In the `Dog` class, override the `__str__` method to return a string representation of the object. Create an object of the class and print it.\n",
    "\n",
    "### Assignment 3: Single Inheritance with Additional Methods\n",
    "\n",
    "In the `Dog` class, add a method named `bark` that prints a barking sound. Create an object of the class and call the method.\n",
    "\n",
    "### Assignment 4: Multiple Inheritance Basic\n",
    "\n",
    "Create a base class named `Walker` with a method `walk` that prints a walking message. Create another base class named `Runner` with a method `run` that prints a running message. Create a derived class named `Athlete` that inherits from both `Walker` and `Runner`. Create an object of the `Athlete` class and call both methods.\n",
    "\n",
    "### Assignment 5: Method Resolution Order (MRO) in Multiple Inheritance\n",
    "\n",
    "In the `Athlete` class, override the `walk` method to print a different message. Create an object of the class and call the `walk` method. Use the `super()` function to call the `walk` method of the `Walker` class.\n",
    "\n",
    "### Assignment 6: Multiple Inheritance with Additional Attributes\n",
    "\n",
    "In the `Athlete` class, add an attribute `training_hours` and a method `train` that prints the training hours. Create an object of the class and call the method.\n",
    "\n",
    "### Assignment 7: Diamond Problem in Multiple Inheritance\n",
    "\n",
    "Create a class named `A` with a method `show` that prints a message. Create two derived classes `B` and `C` that inherit from `A` and override the `show` method. Create a class `D` that inherits from both `B` and `C`. Create an object of the `D` class and call the `show` method. Observe the method resolution order.\n",
    "\n",
    "### Assignment 8: Using `super()` in Single Inheritance\n",
    "\n",
    "Create a base class named `Shape` with an attribute `color`. Create a derived class named `Circle` that inherits from `Shape` and adds an attribute `radius`. Use the `super()` function to initialize the attributes. Create an object of the `Circle` class and print its attributes.\n",
    "\n",
    "### Assignment 9: Using `super()` in Multiple Inheritance\n",
    "\n",
    "Create a class named `Person` with an attribute `name`. Create a class named `Employee` with an attribute `employee_id`. Create a derived class `Manager` that inherits from both `Person` and `Employee`. Use the `super()` function to initialize the attributes. Create an object of the `Manager` class and print its attributes.\n",
    "\n",
    "### Assignment 10: Method Overriding and `super()`\n",
    "\n",
    "Create a class named `Vehicle` with a method `start` that prints a starting message. Create a derived class `Car` that overrides the `start` method to print a different message. Use the `super()` function to call the `start` method of the `Vehicle` class. Create an object of the `Car` class and call the `start` method.\n",
    "\n",
    "### Assignment 11: Multiple Inheritance with Different Methods\n",
    "\n",
    "Create a class named `Flyer` with a method `fly` that prints a flying message. Create a class named `Swimmer` with a method `swim` that prints a swimming message. Create a derived class `Superhero` that inherits from both `Flyer` and `Swimmer`. Create an object of the `Superhero` class and call both methods.\n",
    "\n",
    "### Assignment 12: Complex Multiple Inheritance\n",
    "\n",
    "Create a class named `Base1` with an attribute `a`. Create a class named `Base2` with an attribute `b`. Create a class named `Derived` that inherits from both `Base1` and `Base2` and adds an attribute `c`. Initialize all attributes using the `super()` function. Create an object of the `Derived` class and print its attributes.\n",
    "\n",
    "### Assignment 13: Checking Instance Types with Inheritance\n",
    "\n",
    "Create a base class named `Animal` and a derived class named `Cat`. Create objects of both classes and use the `isinstance` function to check the instance types.\n",
    "\n",
    "### Assignment 14: Polymorphism with Inheritance\n",
    "\n",
    "Create a base class named `Bird` with a method `speak`. Create two derived classes `Parrot` and `Penguin` that override the `speak` method. Create a list of `Bird` objects and call the `speak` method on each object to demonstrate polymorphism.\n",
    "\n",
    "### Assignment 15: Combining Single and Multiple Inheritance\n",
    "\n",
    "Create a base class named `Device` with an attribute `brand`. Create a derived class `Phone` that inherits from `Device` and adds an attribute `model`. Create another base class `Camera` with an attribute `resolution`. Create a derived class `Smartphone` that inherits from both `Phone` and `Camera`. Create an object of the `Smartphone` class and print its attributes."
   ]
  },
  {
   "cell_type": "code",
   "execution_count": 2,
   "metadata": {},
   "outputs": [
    {
     "name": "stdout",
     "output_type": "stream",
     "text": [
      "Max Dog German Safer\n"
     ]
    }
   ],
   "source": [
    "# Create a base class named `Animal` with attributes `name` and `species`. Create a derived class named `Dog` that inherits from `Animal` and adds an attribute `breed`. Create an object of the `Dog` class and print its attributes.\n",
    "class Animal:\n",
    "    def __init__(self, name, species):\n",
    "        self.name = name \n",
    "        self.species = species\n",
    "    \n",
    "    \n",
    "class Dog(Animal):\n",
    "    def __init__(self, name, species, bread):\n",
    "        super().__init__(name, species)\n",
    "        self.bread = bread\n",
    "        \n",
    "dog = Dog('Max','Dog', 'German Safer')\n",
    "print(dog.name, dog.species, dog.bread)"
   ]
  },
  {
   "cell_type": "code",
   "execution_count": 10,
   "id": "d93a44eb",
   "metadata": {},
   "outputs": [
    {
     "name": "stdout",
     "output_type": "stream",
     "text": [
      "Dog name is Max, and it species is Dog\n"
     ]
    }
   ],
   "source": [
    "# In the `Dog` class, override the `__str__` method to return a string representation of the object. Create an object of the class and print it.\n",
    "class Dog:\n",
    "    def __init__(self, name, species):\n",
    "        self.name = name\n",
    "        self.species = species\n",
    "        \n",
    "    def __str__(self):\n",
    "        return f'Dog name is {self.name}, and it species is {self.species}'\n",
    "\n",
    "dog = Dog('Max', 'Dog')\n",
    "print(dog)"
   ]
  },
  {
   "cell_type": "code",
   "execution_count": 15,
   "id": "ce8901a4",
   "metadata": {},
   "outputs": [
    {
     "name": "stdout",
     "output_type": "stream",
     "text": [
      "Woof woof !\n"
     ]
    }
   ],
   "source": [
    "# In the `Dog` class, add a method named `bark` that prints a barking sound. Create an object of the class and call the method.\n",
    "\n",
    "class Dog:\n",
    "    def __init__(self, name, specie):\n",
    "        self.name = name\n",
    "        self.specie = specie\n",
    "    def Bark(self):\n",
    "        print('Woof woof !')\n",
    "dog = Dog('Max', 'Dog')\n",
    "dog.Bark()"
   ]
  },
  {
   "cell_type": "code",
   "execution_count": 16,
   "id": "d6d76775",
   "metadata": {},
   "outputs": [
    {
     "name": "stdout",
     "output_type": "stream",
     "text": [
      "I am running\n",
      "Hello i am walking!\n"
     ]
    }
   ],
   "source": [
    "# Create a base class named `Walker` with a method `walk` that prints a walking message. Create another base class named `Runner` with a method `run` that prints a running message. Create a derived class named `Athlete` that inherits from both `Walker` and `Runner`. Create an object of the `Athlete` class and call both methods.\n",
    "\n",
    "class Walker:\n",
    "    def walk(self):\n",
    "        print('Hello i am walking!')\n",
    "\n",
    "class Runner(Walker):\n",
    "    def run(self):\n",
    "        print('I am running')\n",
    "        \n",
    "class Athlete(Runner):\n",
    "    pass\n",
    "\n",
    "Ana = Athlete()\n",
    "Ana.run()\n",
    "Ana.walk()"
   ]
  },
  {
   "cell_type": "code",
   "execution_count": 24,
   "id": "1bc56788",
   "metadata": {},
   "outputs": [
    {
     "name": "stdout",
     "output_type": "stream",
     "text": [
      "Hey i can walk\n",
      "Hello i am walking!\n"
     ]
    }
   ],
   "source": [
    "# In the `Athlete` class, override the `walk` method to print a different message. Create an object of the class and call the `walk` method. Use the `super()` function to call the `walk` method of the `Walker` class.\n",
    "class Athlete(Walker):\n",
    "    def walk(self):\n",
    "        print('Hey i can walk')\n",
    "        super().walk()\n",
    "        \n",
    "a = Athlete()\n",
    "a.walk()"
   ]
  },
  {
   "cell_type": "code",
   "execution_count": 28,
   "id": "aa32b85a",
   "metadata": {},
   "outputs": [
    {
     "name": "stdout",
     "output_type": "stream",
     "text": [
      "Your training hour: 2 hrs\n"
     ]
    }
   ],
   "source": [
    "# In the `Athlete` class, add an attribute `training_hours` and a method `train` that prints the training hours. Create an object of the class and call the method.\n",
    "\n",
    "class Athlete:\n",
    "    def __init__(self, training_hours):\n",
    "        self.training_hour = training_hours\n",
    "    \n",
    "    def train(self):\n",
    "        print(f'Your training hour: {self.training_hour} hrs')\n",
    "b = Athlete(2)\n",
    "b.train()\n",
    " "
   ]
  },
  {
   "cell_type": "code",
   "execution_count": 32,
   "id": "aae1aa71",
   "metadata": {},
   "outputs": [
    {
     "name": "stdout",
     "output_type": "stream",
     "text": [
      "hello! I am A\n",
      "Hey! i am A's friend C.\n",
      "hello I am B and he is A\n"
     ]
    }
   ],
   "source": [
    "# Create a class named `A` with a method `show` that prints a message. Create two derived classes `B` and `C` that inherit from `A` and override the `show` method. Create a class `D` that inherits from both `B` and `C`. Create an object of the `D` class and call the `show` method. Observe the method resolution order.\n",
    "\n",
    "class A:\n",
    "    def show(self):\n",
    "        print('hello! I am A')\n",
    "\n",
    "class B(A):\n",
    "    def show(self):\n",
    "        super().show()\n",
    "        print('hello I am B and he is A')\n",
    "\n",
    "class C(A):\n",
    "    def show(self):\n",
    "        super().show()\n",
    "        print(\"Hey! i am A's friend C.\")\n",
    "\n",
    "class D(B, C):\n",
    "    def show(self):\n",
    "        super().show()\n",
    "\n",
    "d = D()\n",
    "d.show()"
   ]
  },
  {
   "cell_type": "code",
   "execution_count": 34,
   "id": "1bec6456",
   "metadata": {},
   "outputs": [
    {
     "name": "stdout",
     "output_type": "stream",
     "text": [
      "Radius of circle is 4, color of circle is red\n"
     ]
    }
   ],
   "source": [
    "# Create a base class named `Shape` with an attribute `color`. Create a derived class named `Circle` that inherits from `Shape` and adds an attribute `radius`. Use the `super()` function to initialize the attributes. Create an object of the `Circle` class and print its attributes.\n",
    "\n",
    "class Shape:\n",
    "    def __init__(self, color):\n",
    "        self.color = color\n",
    "\n",
    "class circle(Shape):\n",
    "    def __init__(self, color, radius):\n",
    "        super().__init__(color)\n",
    "        self.radius = radius\n",
    "\n",
    "c = circle('red', 4)\n",
    "print(f\"Radius of circle is {c.radius}, color of circle is {c.color}\")\n"
   ]
  },
  {
   "cell_type": "code",
   "execution_count": 41,
   "id": "19cc8735",
   "metadata": {},
   "outputs": [
    {
     "name": "stdout",
     "output_type": "stream",
     "text": [
      "Ramesh 845\n"
     ]
    }
   ],
   "source": [
    "# Create a class named `Person` with an attribute `name`. Create a class named `Employee` with an attribute `employee_id`. Create a derived class `Manager` that inherits from both `Person` and `Employee`. Use the `super()` function to initialize the attributes. Create an object of the `Manager` class and print its attributes.\n",
    "\n",
    "class Person:\n",
    "    def __init__(self, name):\n",
    "        self.name = name\n",
    "\n",
    "class Employee:\n",
    "    def __init__(self, employee_id):\n",
    "        self.employee_id = employee_id\n",
    "\n",
    "class Manager(Person, Employee):\n",
    "    def __init__(self, name, employee_id):\n",
    "        super().__init__(name)\n",
    "        Employee.__init__(self, employee_id)\n",
    "\n",
    "m = Manager('Ramesh', 845)\n",
    "print(m.name, m.employee_id)"
   ]
  },
  {
   "cell_type": "code",
   "execution_count": 42,
   "id": "0feaad1d",
   "metadata": {},
   "outputs": [
    {
     "name": "stdout",
     "output_type": "stream",
     "text": [
      "Starting !!!\n",
      "car started enjoy your drive\n"
     ]
    }
   ],
   "source": [
    "# Create a class named `Vehicle` with a method `start` that prints a starting message. Create a derived class `Car` that overrides the `start` method to print a different message. Use the `super()` function to call the `start` method of the `Vehicle` class. Create an object of the `Car` class and call the `start` method.\n",
    "\n",
    "class Vehicle:\n",
    "    def start(self):\n",
    "        print('Starting !!!')\n",
    "\n",
    "class Car(Vehicle):\n",
    "    def start(self):\n",
    "        super().start()\n",
    "        print('car started enjoy your drive')\n",
    "\n",
    "\n",
    "car = Car()\n",
    "car.start()"
   ]
  },
  {
   "cell_type": "code",
   "execution_count": 52,
   "id": "c3c3c3fe",
   "metadata": {},
   "outputs": [
    {
     "name": "stdout",
     "output_type": "stream",
     "text": [
      "I am Flying\n",
      "I can swim\n"
     ]
    }
   ],
   "source": [
    "# Create a class named `Flyer` with a method `fly` that prints a flying message. Create a class named `Swimmer` with a method `swim` that prints a swimming message. Create a derived class `Superhero` that inherits from both `Flyer` and `Swimmer`. Create an object of the `Superhero` class and call both methods.\n",
    "\n",
    "class Flyer:\n",
    "    def fly(self):\n",
    "        print('I am Flying')\n",
    "\n",
    "class Swimmer:\n",
    "    def swim(self):\n",
    "        print('I can swim')\n",
    "\n",
    "class Superhero(Flyer, Swimmer):\n",
    "    pass\n",
    "\n",
    "s = Superhero()\n",
    "s.fly()\n",
    "s.swim()"
   ]
  },
  {
   "cell_type": "code",
   "execution_count": 54,
   "id": "d25a83a5",
   "metadata": {},
   "outputs": [
    {
     "name": "stdout",
     "output_type": "stream",
     "text": [
      "a b\n"
     ]
    }
   ],
   "source": [
    "# Create a class named `Base1` with an attribute `a`. Create a class named `Base2` with an attribute `b`. Create a class named `Derived` that inherits from both `Base1` and `Base2` and adds an attribute `c`. Initialize all attributes using the `super()` function. Create an object of the `Derived` class and print its attributes.\n",
    "\n",
    "class Base1:\n",
    "    def __init__(self, a):\n",
    "        self.a = a\n",
    "        \n",
    "class Base2:\n",
    "    def __init__(self, b):\n",
    "        self.b = b\n",
    "class Derived(Base1, Base2):\n",
    "    def __init__(self, a, b):\n",
    "        super().__init__(a)\n",
    "        Base2.__init__(self, b)\n",
    "    pass\n",
    "\n",
    "d = Derived('a', 'b')\n",
    "print(d.a, d.b)"
   ]
  },
  {
   "cell_type": "code",
   "execution_count": 64,
   "id": "13efcc8c",
   "metadata": {},
   "outputs": [
    {
     "name": "stdout",
     "output_type": "stream",
     "text": [
      "True\n",
      "True\n",
      "True\n",
      "False\n"
     ]
    }
   ],
   "source": [
    "# Create a base class named `Animal` and a derived class named `Cat`. Create objects of both classes and use the `isinstance` function to check the instance types.\n",
    "\n",
    "class Animal:\n",
    "    pass\n",
    "\n",
    "class Cat(Animal):\n",
    "    pass\n",
    "\n",
    "a = Animal()\n",
    "c = Cat()\n",
    "print(isinstance(c, Animal))\n",
    "print(isinstance(c, Cat))\n",
    "print(isinstance(a, Animal))\n",
    "print(isinstance(a, Cat))"
   ]
  },
  {
   "cell_type": "code",
   "execution_count": null,
   "id": "b4509274",
   "metadata": {},
   "outputs": [
    {
     "name": "stdout",
     "output_type": "stream",
     "text": [
      "I can speak\n",
      "Listen Parrot sound\n",
      "I can speak\n",
      "Penguin sound\n"
     ]
    }
   ],
   "source": [
    "# Create a base class named `Bird` with a method `speak`. Create two derived classes `Parrot` and `Penguin` that override the `speak` method. Create a list of `Bird` objects and call the `speak` method on each object to demonstrate polymorphism.\n",
    "\n",
    "class Bird:\n",
    "    def speak(self):\n",
    "        print('I can speak')\n",
    "\n",
    "class Parrot(Bird):\n",
    "    def speak(self):\n",
    "        super().speak()\n",
    "        print('Listen Parrot sound')\n",
    "\n",
    "class Penguin(Bird):\n",
    "    def speak(self):\n",
    "        super().speak()\n",
    "        print('Penguin sound')\n",
    "    \n",
    "p = Parrot()\n",
    "p.speak()\n",
    "\n",
    "pe = Penguin()\n",
    "pe.speak()"
   ]
  },
  {
   "cell_type": "code",
   "execution_count": 72,
   "id": "1d383307",
   "metadata": {},
   "outputs": [
    {
     "name": "stdout",
     "output_type": "stream",
     "text": [
      "Samsung S25 100x\n"
     ]
    }
   ],
   "source": [
    "# Create a base class named `Device` with an attribute `brand`. Create a derived class `Phone` that inherits from `Device` and adds an attribute `model`. Create another base class `Camera` with an attribute `resolution`. Create a derived class `Smartphone` that inherits from both `Phone` and `Camera`. Create an object of the `Smartphone` class and print its attributes.\n",
    "\n",
    "class Device:\n",
    "    def __init__(self, brand):\n",
    "        self.brand = brand\n",
    "\n",
    "class Phone(Device):\n",
    "    def __init__(self, brand, model):\n",
    "        super().__init__(brand)\n",
    "        self.model = model\n",
    "\n",
    "class Camera:\n",
    "    def __init__(self, resolution):\n",
    "        self.resolution = resolution\n",
    "        \n",
    "class Smartphone(Phone, Camera):\n",
    "    def __init__(self, brand, model, resolution):\n",
    "        Phone.__init__(self,brand, model)\n",
    "        Camera.__init__(self, resolution)\n",
    "\n",
    "s = Smartphone('Samsung', 'S25', '100x')\n",
    "print(s.brand, s.model, s.resolution)"
   ]
  }
 ],
 "metadata": {
  "kernelspec": {
   "display_name": "Python 3",
   "language": "python",
   "name": "python3"
  },
  "language_info": {
   "codemirror_mode": {
    "name": "ipython",
    "version": 3
   },
   "file_extension": ".py",
   "mimetype": "text/x-python",
   "name": "python",
   "nbconvert_exporter": "python",
   "pygments_lexer": "ipython3",
   "version": "3.13.0"
  }
 },
 "nbformat": 4,
 "nbformat_minor": 5
}
