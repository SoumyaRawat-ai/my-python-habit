{
 "cells": [
  {
   "cell_type": "markdown",
   "id": "7fbbbcb1",
   "metadata": {},
   "source": [
    "#### Generators\n",
    "\n",
    "Generators are a simpler way to create iterators. They use the yield keyword to produce a series of values lazily, which means they generate values on the fly and do not store them in memory"
   ]
  },
  {
   "cell_type": "code",
   "execution_count": 3,
   "id": "5b8a1a4b",
   "metadata": {},
   "outputs": [],
   "source": [
    "def square(n):\n",
    "    for i in range(3):\n",
    "        yield i**2"
   ]
  },
  {
   "cell_type": "code",
   "execution_count": 4,
   "id": "032a1642",
   "metadata": {},
   "outputs": [
    {
     "data": {
      "text/plain": [
       "<generator object square at 0x000001EAA58D5560>"
      ]
     },
     "execution_count": 4,
     "metadata": {},
     "output_type": "execute_result"
    }
   ],
   "source": [
    "square(3)"
   ]
  },
  {
   "cell_type": "code",
   "execution_count": 7,
   "id": "2d9540fa",
   "metadata": {},
   "outputs": [
    {
     "name": "stdout",
     "output_type": "stream",
     "text": [
      "0\n",
      "1\n",
      "4\n"
     ]
    }
   ],
   "source": [
    "for i in square(3):\n",
    "    print(i)"
   ]
  },
  {
   "cell_type": "code",
   "execution_count": 15,
   "id": "eb89e9ee",
   "metadata": {},
   "outputs": [
    {
     "data": {
      "text/plain": [
       "<generator object square at 0x000001EAA5E73100>"
      ]
     },
     "execution_count": 15,
     "metadata": {},
     "output_type": "execute_result"
    }
   ],
   "source": [
    "a = square(3)\n",
    "a"
   ]
  },
  {
   "cell_type": "code",
   "execution_count": 16,
   "id": "6c8a8e94",
   "metadata": {},
   "outputs": [
    {
     "data": {
      "text/plain": [
       "0"
      ]
     },
     "execution_count": 16,
     "metadata": {},
     "output_type": "execute_result"
    }
   ],
   "source": [
    "next(a)"
   ]
  },
  {
   "cell_type": "code",
   "execution_count": 17,
   "id": "98ab6447",
   "metadata": {},
   "outputs": [
    {
     "data": {
      "text/plain": [
       "1"
      ]
     },
     "execution_count": 17,
     "metadata": {},
     "output_type": "execute_result"
    }
   ],
   "source": [
    "next(a)"
   ]
  },
  {
   "cell_type": "code",
   "execution_count": 18,
   "id": "3a2ae2bb",
   "metadata": {},
   "outputs": [
    {
     "data": {
      "text/plain": [
       "4"
      ]
     },
     "execution_count": 18,
     "metadata": {},
     "output_type": "execute_result"
    }
   ],
   "source": [
    "next(a)"
   ]
  },
  {
   "cell_type": "code",
   "execution_count": 19,
   "id": "464a9f1c",
   "metadata": {},
   "outputs": [],
   "source": [
    "def my_generator():\n",
    "    yield 1\n",
    "    yield 2\n",
    "    yield 3"
   ]
  },
  {
   "cell_type": "code",
   "execution_count": 23,
   "id": "3177dfb9",
   "metadata": {},
   "outputs": [
    {
     "data": {
      "text/plain": [
       "<generator object my_generator at 0x000001EAA58B14E0>"
      ]
     },
     "execution_count": 23,
     "metadata": {},
     "output_type": "execute_result"
    }
   ],
   "source": [
    "gen = my_generator()\n",
    "gen"
   ]
  },
  {
   "cell_type": "code",
   "execution_count": 22,
   "id": "1b2961fa",
   "metadata": {},
   "outputs": [
    {
     "data": {
      "text/plain": [
       "2"
      ]
     },
     "execution_count": 22,
     "metadata": {},
     "output_type": "execute_result"
    }
   ],
   "source": [
    "next(gen)"
   ]
  },
  {
   "cell_type": "code",
   "execution_count": 24,
   "id": "a9eef15a",
   "metadata": {},
   "outputs": [
    {
     "name": "stdout",
     "output_type": "stream",
     "text": [
      "1\n",
      "2\n",
      "3\n"
     ]
    }
   ],
   "source": [
    "for val in gen:\n",
    "    print(val)"
   ]
  },
  {
   "cell_type": "markdown",
   "id": "a14115a1",
   "metadata": {},
   "source": [
    "### Practical Example: Reading Large Files\n",
    "\n",
    "Generators are particularly useful for reading large file because they allow you yo process one line at a time without loading the entire file into memory"
   ]
  },
  {
   "cell_type": "code",
   "execution_count": 25,
   "id": "96d97a82",
   "metadata": {},
   "outputs": [],
   "source": [
    "### Practical : Reading Large files\n",
    "\n",
    "def read_large_files(f):\n",
    "    with open(f, \"r\") as file:\n",
    "        for line in file:\n",
    "            yield line"
   ]
  },
  {
   "cell_type": "code",
   "execution_count": 29,
   "id": "80c8ccd4",
   "metadata": {},
   "outputs": [
    {
     "name": "stdout",
     "output_type": "stream",
     "text": [
      "Lazy loading is a technique used to improve website performance by delaying the loading of non-critical resources (like images, videos, or code) until they are needed, typically when a user scrolls to them or interacts with a specific part of the page. This contrasts with loading everything upfront, which can slow down initial page load times.\n",
      "Here's how it works:\n",
      "Deferred Loading:\n",
      "Instead of loading all assets at once, lazy loading delays the loading of certain resources until they are actually visible in the user's viewport or when the user interacts with them.\n",
      "Resource Optimization:\n",
      "By loading only what's necessary initially, lazy loading reduces the initial page load time and bandwidth usage.\n",
      "Improved User Experience:\n",
      "Faster loading times and reduced resource consumption lead to a better overall user experience.\n",
      "Benefits of Lazy Loading:\n",
      "Faster Initial Page Load:\n",
      "Websites with lazy loading load faster because they don't have to load all resources at once.\n",
      "Reduced Bandwidth Consumption:\n",
      "Only necessary resources are loaded, which conserves bandwidth and can be particularly beneficial for users with limited internet access.\n",
      "Improved SEO:\n",
      "Faster page load times can positively impact SEO rankings, as search engines prioritize websites that offer a good user experience.\n",
      "Optimized Performance:\n",
      "Lazy loading helps manage large datasets, complex objects, or unused resources by loading them only when they are needed.\n",
      "Enhanced Mobile Experience:\n",
      "Lazy loading is particularly beneficial for mobile users, as it can help reduce loading times and bandwidth usage on devices with slower internet connections.\n",
      "Implementation Methods:\n",
      "Browser-level lazy loading:\n",
      "Modern browsers support native lazy loading for images and iframes using the loading=\"lazy\" attribute.\n",
      "JavaScript-based lazy loading:\n",
      "JavaScript libraries and custom code can be used to implement lazy loading for various resources, including images, videos, and components.\n",
      "Intersection Observer API:\n",
      "This API efficiently detects when an element enters the viewport, making it a powerful tool for implementing lazy loading.\n",
      "Lazy-loading feature modules (Angular):\n",
      "In Angular, lazy loading can be used to load feature modules as needed, reducing the initial bundle size and improving load times.\n",
      "Lazy loading is a valuable technique for improving website performance and user experience by intelligently managing resource loading. By deferring the loading of non-critical resources until they are needed, websites can achieve faster load times, reduced bandwidth consumption, and a more responsive user experience.\n"
     ]
    }
   ],
   "source": [
    "file_path = 'large_file.txt'\n",
    "\n",
    "for line in read_large_files(file_path):\n",
    "    print(line.strip())"
   ]
  },
  {
   "cell_type": "code",
   "execution_count": null,
   "id": "ec57b766",
   "metadata": {},
   "outputs": [],
   "source": []
  }
 ],
 "metadata": {
  "kernelspec": {
   "display_name": "Python 3",
   "language": "python",
   "name": "python3"
  },
  "language_info": {
   "codemirror_mode": {
    "name": "ipython",
    "version": 3
   },
   "file_extension": ".py",
   "mimetype": "text/x-python",
   "name": "python",
   "nbconvert_exporter": "python",
   "pygments_lexer": "ipython3",
   "version": "3.13.0"
  }
 },
 "nbformat": 4,
 "nbformat_minor": 5
}
