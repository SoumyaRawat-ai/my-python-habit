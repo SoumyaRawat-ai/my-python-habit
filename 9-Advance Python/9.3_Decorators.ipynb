{
 "cells": [
  {
   "cell_type": "markdown",
   "id": "f791fd2b",
   "metadata": {},
   "source": [
    "#### Decorators\n",
    "\n",
    "Decorators are a powerful and flexible feature in python that allows you to modify thr behavior of a function or a class method. They commonly use to add functionality to function or method without modifying their actual code. This lesson covers the basic of  decorators, including how to create and use them."
   ]
  },
  {
   "cell_type": "code",
   "execution_count": 1,
   "id": "610461a7",
   "metadata": {},
   "outputs": [],
   "source": [
    "### function copy\n",
    "### closures\n",
    "### decorators"
   ]
  },
  {
   "cell_type": "code",
   "execution_count": 7,
   "id": "2ab21359",
   "metadata": {},
   "outputs": [
    {
     "data": {
      "text/plain": [
       "'welcome to my python code'"
      ]
     },
     "execution_count": 7,
     "metadata": {},
     "output_type": "execute_result"
    }
   ],
   "source": [
    "## function \n",
    "def welcome():\n",
    "    return\"welcome to my python code\"\n",
    "\n",
    "welcome()"
   ]
  },
  {
   "cell_type": "code",
   "execution_count": 8,
   "id": "c251c92f",
   "metadata": {},
   "outputs": [
    {
     "name": "stdout",
     "output_type": "stream",
     "text": [
      "welcome to my python code\n",
      "welcome to my python code\n"
     ]
    }
   ],
   "source": [
    "wel = welcome\n",
    "print(wel())\n",
    "del welcome\n",
    "print(wel())"
   ]
  },
  {
   "cell_type": "code",
   "execution_count": 14,
   "id": "1cb394c4",
   "metadata": {},
   "outputs": [],
   "source": [
    "##closures function\n",
    "\n",
    "def main_welcome(msg):\n",
    "    # msg=\"welcome\"\n",
    "    def sub_welcome_method():\n",
    "        print(\"welcome to the advance the python code\")\n",
    "        print(msg)\n",
    "        print(\"Please learn these concept properlys\")\n",
    "    return sub_welcome_method()"
   ]
  },
  {
   "cell_type": "code",
   "execution_count": 15,
   "id": "5402468d",
   "metadata": {},
   "outputs": [
    {
     "name": "stdout",
     "output_type": "stream",
     "text": [
      "welcome to the advance the python code\n",
      "Hey welcome every one\n",
      "Please learn these concept properlys\n"
     ]
    }
   ],
   "source": [
    "main_welcome(\"Hey welcome every one\")"
   ]
  },
  {
   "cell_type": "code",
   "execution_count": 30,
   "id": "caa6a5ad",
   "metadata": {},
   "outputs": [],
   "source": [
    "def main_welcome(func):\n",
    "    # msg=\"welcome\"\n",
    "    def sub_welcome_method():\n",
    "        print(\"welcome to the advance the python code\")\n",
    "        print(func)\n",
    "        print(\"Please learn these concept properly\")\n",
    "    return sub_welcome_method()"
   ]
  },
  {
   "cell_type": "code",
   "execution_count": 32,
   "id": "14c1803e",
   "metadata": {},
   "outputs": [
    {
     "name": "stdout",
     "output_type": "stream",
     "text": [
      "welcome to the advance the python code\n",
      "4\n",
      "Please learn these concept properly\n"
     ]
    }
   ],
   "source": [
    "main_welcome(len([1, 2, 3, 4]))"
   ]
  },
  {
   "cell_type": "code",
   "execution_count": 33,
   "id": "25f2ff37",
   "metadata": {},
   "outputs": [],
   "source": [
    "## Decorator\n",
    "def main_welcome(func):\n",
    "    # msg=\"welcome\"\n",
    "    def sub_welcome_method():\n",
    "        print(\"welcome to the advance the python code\")\n",
    "        func()\n",
    "        print(\"Please learn these concept properly\")\n",
    "    return sub_welcome_method()"
   ]
  },
  {
   "cell_type": "code",
   "execution_count": 34,
   "id": "c1f23aac",
   "metadata": {},
   "outputs": [
    {
     "name": "stdout",
     "output_type": "stream",
     "text": [
      "This is an course introduction\n"
     ]
    }
   ],
   "source": [
    "def course_introduction():\n",
    "    print(\"This is an course introduction\")\n",
    "course_introduction()"
   ]
  },
  {
   "cell_type": "code",
   "execution_count": 35,
   "id": "750573b3",
   "metadata": {},
   "outputs": [
    {
     "name": "stdout",
     "output_type": "stream",
     "text": [
      "welcome to the advance the python code\n",
      "This is an course introduction\n",
      "Please learn these concept properly\n"
     ]
    }
   ],
   "source": [
    "main_welcome(course_introduction)"
   ]
  },
  {
   "cell_type": "code",
   "execution_count": 36,
   "id": "70d1e193",
   "metadata": {},
   "outputs": [
    {
     "name": "stdout",
     "output_type": "stream",
     "text": [
      "welcome to the advance the python code\n",
      "This is an course introduction\n",
      "Please learn these concept properly\n"
     ]
    }
   ],
   "source": [
    "@main_welcome\n",
    "def course_introduction():\n",
    "    print(\"This is an course introduction\")"
   ]
  },
  {
   "cell_type": "code",
   "execution_count": 37,
   "id": "3f315971",
   "metadata": {},
   "outputs": [],
   "source": [
    "## Decorator\n",
    "\n",
    "def my_decorator(func):\n",
    "    def wrapper():\n",
    "        print(\"Something is happening before the function is called\")\n",
    "        func()\n",
    "        print(\"Something is happening after the function is called.\")\n",
    "    return wrapper()"
   ]
  },
  {
   "cell_type": "code",
   "execution_count": 38,
   "id": "0cb14954",
   "metadata": {},
   "outputs": [
    {
     "name": "stdout",
     "output_type": "stream",
     "text": [
      "Something is happening before the function is called\n",
      "hello\n",
      "Something is happening after the function is called.\n"
     ]
    }
   ],
   "source": [
    "@my_decorator\n",
    "def say_hello():\n",
    "    print(\"hello\")"
   ]
  },
  {
   "cell_type": "code",
   "execution_count": 39,
   "id": "cff722a4",
   "metadata": {},
   "outputs": [],
   "source": [
    "## Decorators with arguments\n",
    "def repeat(n):\n",
    "    def decorator(func):\n",
    "        def wrapper(*args, **kwargs):\n",
    "            for _ in range(n):\n",
    "                func(*args, **kwargs)\n",
    "        return wrapper\n",
    "    return decorator"
   ]
  },
  {
   "cell_type": "code",
   "execution_count": 40,
   "id": "8960423e",
   "metadata": {},
   "outputs": [],
   "source": [
    "@repeat(3)\n",
    "def say_hello():\n",
    "    print(\"hello\")"
   ]
  },
  {
   "cell_type": "code",
   "execution_count": 41,
   "id": "9f0d2ad2",
   "metadata": {},
   "outputs": [
    {
     "name": "stdout",
     "output_type": "stream",
     "text": [
      "hello\n",
      "hello\n",
      "hello\n"
     ]
    }
   ],
   "source": [
    "say_hello()"
   ]
  },
  {
   "cell_type": "code",
   "execution_count": null,
   "id": "faada39d",
   "metadata": {},
   "outputs": [],
   "source": []
  }
 ],
 "metadata": {
  "kernelspec": {
   "display_name": "Python 3",
   "language": "python",
   "name": "python3"
  },
  "language_info": {
   "codemirror_mode": {
    "name": "ipython",
    "version": 3
   },
   "file_extension": ".py",
   "mimetype": "text/x-python",
   "name": "python",
   "nbconvert_exporter": "python",
   "pygments_lexer": "ipython3",
   "version": "3.13.0"
  }
 },
 "nbformat": 4,
 "nbformat_minor": 5
}
