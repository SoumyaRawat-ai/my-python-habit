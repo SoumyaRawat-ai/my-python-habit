{
 "cells": [
  {
   "cell_type": "markdown",
   "metadata": {},
   "source": [
    "#### File Operation -Read and write files"
   ]
  },
  {
   "cell_type": "code",
   "execution_count": 8,
   "metadata": {},
   "outputs": [],
   "source": [
    "### Read a whole File\n",
    "\n",
    "with open('example.txt', 'w') as file:\n",
    "    file.write('Hello how are you are you fine\\n heloo fmdmkmd\\n rfmmdfr')"
   ]
  },
  {
   "cell_type": "code",
   "execution_count": 9,
   "metadata": {},
   "outputs": [
    {
     "name": "stdout",
     "output_type": "stream",
     "text": [
      "Hello how are you are you fine\n",
      " heloo fmdmkmd\n",
      " rfmmdfr\n"
     ]
    }
   ],
   "source": [
    "with open('example.txt', 'r') as file:\n",
    "    a = file.read()\n",
    "print(a)"
   ]
  },
  {
   "cell_type": "code",
   "execution_count": 12,
   "metadata": {},
   "outputs": [
    {
     "name": "stdout",
     "output_type": "stream",
     "text": [
      "Hello how are you are you fine\n",
      "heloo fmdmkmd\n",
      "rfmmdfr\n"
     ]
    }
   ],
   "source": [
    "# Read file line by line\n",
    "with open('example.txt', 'r') as file:\n",
    "    for i in file:\n",
    "        print(i.strip())"
   ]
  },
  {
   "cell_type": "code",
   "execution_count": 15,
   "metadata": {},
   "outputs": [
    {
     "name": "stdout",
     "output_type": "stream",
     "text": [
      "hello i am here\n"
     ]
    }
   ],
   "source": [
    "## Writing a file(overwriting)\n",
    "\n",
    "with open('example.txt', 'w') as file:\n",
    "    file.write('hello i am here')\n",
    "with open('example.txt', 'r') as file:\n",
    "    a = file.read()\n",
    "    print(a)"
   ]
  },
  {
   "cell_type": "code",
   "execution_count": 20,
   "metadata": {},
   "outputs": [],
   "source": [
    "## write a file without over writing\n",
    "with open('example.txt' , 'a') as file:\n",
    "    file.write(\"Append operation taking place\\n\")"
   ]
  },
  {
   "cell_type": "code",
   "execution_count": 1,
   "metadata": {},
   "outputs": [],
   "source": [
    "## Write a list of lines to a file\n",
    "\n",
    "lines = ['First line \\n', 'Second line \\n' 'Third line\\n']\n",
    "\n",
    "with open('example.txt', 'a') as file:\n",
    "    file.writelines(lines)"
   ]
  },
  {
   "cell_type": "code",
   "execution_count": 4,
   "metadata": {},
   "outputs": [],
   "source": [
    "## Binary files\n",
    "\n",
    "data = b'\\x00\\x01\\x02\\x03\\x04'\n",
    "\n",
    "with open('example.bin', 'wb') as file:\n",
    "    file.write(data)"
   ]
  },
  {
   "cell_type": "code",
   "execution_count": 7,
   "metadata": {},
   "outputs": [
    {
     "name": "stdout",
     "output_type": "stream",
     "text": [
      "b'\\x00\\x01\\x02\\x03\\x04'\n"
     ]
    }
   ],
   "source": [
    "with open('example.bin', 'rb') as file:\n",
    "    content = file.read()\n",
    "    print(content)"
   ]
  },
  {
   "cell_type": "code",
   "execution_count": 10,
   "metadata": {},
   "outputs": [],
   "source": [
    "### Read the content from source text file and write to destination text file\n",
    "\n",
    "# copying a text file\n",
    "\n",
    "with open('example.txt') as file:\n",
    "    R = file.read()\n",
    "\n",
    "with open('destination.txt', 'w') as file:\n",
    "    file.write(R)"
   ]
  },
  {
   "cell_type": "code",
   "execution_count": 20,
   "metadata": {},
   "outputs": [
    {
     "name": "stdout",
     "output_type": "stream",
     "text": [
      "line_count: 200\n",
      "word_count: 5200\n",
      "char: 40000\n"
     ]
    }
   ],
   "source": [
    "# Read a text file and count the number of lines, words, and characters\n",
    "\n",
    "with open('example.txt', 'r') as file:\n",
    "    lines = file.read()\n",
    "print(f\"line_count: {len(lines)}\")\n",
    "print(f\"word_count: {sum(len(lines.split()) for line in lines)}\")\n",
    "print(f\"char: {sum(len(lines) for line in lines)}\")\n"
   ]
  },
  {
   "cell_type": "code",
   "execution_count": 24,
   "metadata": {},
   "outputs": [
    {
     "name": "stdout",
     "output_type": "stream",
     "text": [
      "line count 200\n",
      "word count: 5200\n",
      "char count: 40000\n"
     ]
    }
   ],
   "source": [
    "with open('example.txt', 'r') as file:\n",
    "    file1 = file.read()\n",
    "print(f\"line count {len(file1)}\")\n",
    "print(f'word count: {sum(len(file1.split())for file in file1)}')\n",
    "print(f'char count: {sum(len(file1)for line in file1)}')"
   ]
  },
  {
   "cell_type": "markdown",
   "metadata": {},
   "source": [
    "#### The w+ mode in python is used to open a file for both reading and writing. if the file does not exits, its content is truncates(i.e the file is overwritten)"
   ]
  },
  {
   "cell_type": "code",
   "execution_count": 29,
   "metadata": {},
   "outputs": [
    {
     "name": "stdout",
     "output_type": "stream",
     "text": [
      "hey i am new\n",
      "this is a new line\n",
      "\n"
     ]
    }
   ],
   "source": [
    "with open('example.txt', 'w+') as file:\n",
    "    file.write('hey i am new\\n')\n",
    "    file.write('this is a new line\\n')\n",
    "\n",
    "\n",
    "    # Move the file cursor to the beginning\n",
    "    file.seek(0)\n",
    "\n",
    "    #Read the file \n",
    "    content = file.read()\n",
    "    print(content)"
   ]
  },
  {
   "cell_type": "code",
   "execution_count": null,
   "metadata": {},
   "outputs": [],
   "source": []
  }
 ],
 "metadata": {
  "kernelspec": {
   "display_name": "Python 3",
   "language": "python",
   "name": "python3"
  },
  "language_info": {
   "codemirror_mode": {
    "name": "ipython",
    "version": 3
   },
   "file_extension": ".py",
   "mimetype": "text/x-python",
   "name": "python",
   "nbconvert_exporter": "python",
   "pygments_lexer": "ipython3",
   "version": "3.13.0"
  }
 },
 "nbformat": 4,
 "nbformat_minor": 2
}
