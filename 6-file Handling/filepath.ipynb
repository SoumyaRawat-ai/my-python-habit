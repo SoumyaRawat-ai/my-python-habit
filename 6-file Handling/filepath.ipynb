{
 "cells": [
  {
   "cell_type": "code",
   "execution_count": 1,
   "id": "73a21f14",
   "metadata": {},
   "outputs": [
    {
     "name": "stdout",
     "output_type": "stream",
     "text": [
      "current working directory d:\\paidCourse\\python\\6-file Handling\n"
     ]
    }
   ],
   "source": [
    "import os\n",
    "cwd = os.getcwd()\n",
    "print(f'current working directory {cwd}')"
   ]
  },
  {
   "cell_type": "code",
   "execution_count": 4,
   "id": "fcab437d",
   "metadata": {},
   "outputs": [
    {
     "name": "stdout",
     "output_type": "stream",
     "text": [
      "new directory is created package\n"
     ]
    }
   ],
   "source": [
    "## create a new directory\n",
    "new_directory = 'package'\n",
    "os.mkdir(new_directory)\n",
    "print(f'new directory is created {new_directory}')"
   ]
  },
  {
   "cell_type": "code",
   "execution_count": 5,
   "id": "33fb9c8a",
   "metadata": {},
   "outputs": [
    {
     "name": "stdout",
     "output_type": "stream",
     "text": [
      "['destination.txt', 'example.bin', 'example.txt', 'fileoperation.ipynb', 'filepath.ipynb', 'package']\n"
     ]
    }
   ],
   "source": [
    "## Listing Files And Directory\n",
    "items = os.listdir('.')\n",
    "print(items)"
   ]
  },
  {
   "cell_type": "code",
   "execution_count": 7,
   "id": "d8d9402c",
   "metadata": {},
   "outputs": [
    {
     "name": "stdout",
     "output_type": "stream",
     "text": [
      "folder\\file.txt\n"
     ]
    }
   ],
   "source": [
    "### joining Paths \n",
    "\n",
    "dir_name = 'folder'\n",
    "file_name = 'file.txt'\n",
    "full_dir_name = os.path.join(dir_name, file_name)\n",
    "print(full_dir_name)"
   ]
  },
  {
   "cell_type": "code",
   "execution_count": 8,
   "id": "37786b45",
   "metadata": {},
   "outputs": [
    {
     "name": "stdout",
     "output_type": "stream",
     "text": [
      "d:\\paidCourse\\python\\6-file Handling\\folder\\file.txt\n"
     ]
    }
   ],
   "source": [
    "dir_name = 'folder'\n",
    "file_name = 'file.txt'\n",
    "full_dir_name = os.path.join(os.getcwd(),dir_name, file_name)\n",
    "print(full_dir_name)"
   ]
  },
  {
   "cell_type": "code",
   "execution_count": 20,
   "id": "c37936bc",
   "metadata": {},
   "outputs": [
    {
     "name": "stdout",
     "output_type": "stream",
     "text": [
      "the path example.txt does not exits\n"
     ]
    }
   ],
   "source": [
    "path = 'example.txt'\n",
    "if os.path.exists(path):\n",
    "    print(f\"The path {path} is exit\")\n",
    "else:\n",
    "    print(f'the path {path} does not exits')\n",
    "    with open(path, 'w') as file:\n",
    "        pass"
   ]
  },
  {
   "cell_type": "code",
   "execution_count": 21,
   "id": "11146488",
   "metadata": {},
   "outputs": [
    {
     "name": "stdout",
     "output_type": "stream",
     "text": [
      "the example.txt is a file\n"
     ]
    }
   ],
   "source": [
    "# the path is a file or directory\n",
    "import os\n",
    "\n",
    "path ='example.txt'\n",
    "if os.path.isfile(path):\n",
    "    print(f'the {path} is a file')\n",
    "elif os.path.isdir(path):\n",
    "    print(f'the {path} is a dir')\n",
    "else:\n",
    "    print(f'the path {path} is neither a directory nor a file')"
   ]
  },
  {
   "cell_type": "code",
   "execution_count": 22,
   "id": "1d0613e1",
   "metadata": {},
   "outputs": [
    {
     "name": "stdout",
     "output_type": "stream",
     "text": [
      "d:\\paidCourse\\python\\6-file Handling\\example.txt\n"
     ]
    }
   ],
   "source": [
    "## Getting the absolute path\n",
    "relative_path = 'example.txt'\n",
    "absolute_path = os.path.abspath(relative_path)\n",
    "print(absolute_path)"
   ]
  },
  {
   "cell_type": "code",
   "execution_count": null,
   "id": "c4eb853b",
   "metadata": {},
   "outputs": [],
   "source": []
  }
 ],
 "metadata": {
  "kernelspec": {
   "display_name": "Python 3",
   "language": "python",
   "name": "python3"
  },
  "language_info": {
   "codemirror_mode": {
    "name": "ipython",
    "version": 3
   },
   "file_extension": ".py",
   "mimetype": "text/x-python",
   "name": "python",
   "nbconvert_exporter": "python",
   "pygments_lexer": "ipython3",
   "version": "3.13.0"
  }
 },
 "nbformat": 4,
 "nbformat_minor": 5
}
