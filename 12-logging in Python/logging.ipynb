{
 "cells": [
  {
   "cell_type": "code",
   "execution_count": 1,
   "id": "5a0d9836",
   "metadata": {},
   "outputs": [],
   "source": [
    "import logging\n",
    "\n",
    "## configure the basic logging setting\n",
    "logging.basicConfig(level=logging.DEBUG, filename='app.log', filemode='w', format='%(asctime)s - %(levelname)s - %(message)s', datefmt= '%Y-%m-%d %H:%H:%S')\n",
    "\n",
    "## log message\n",
    "logging.debug(\"this a debug message\")\n",
    "logging.info(\"This is an info message\")\n",
    "logging.warning(\"This is a warning message\")\n",
    "logging.error(\"This is an error message\")\n",
    "logging.critical(\"this is a critical message\")"
   ]
  },
  {
   "cell_type": "code",
   "execution_count": 14,
   "id": "41b70967",
   "metadata": {},
   "outputs": [
    {
     "name": "stderr",
     "output_type": "stream",
     "text": [
      "2025-07-10 15:15:25 - DEBUG - this a debug message\n",
      "2025-07-10 15:15:25 - INFO - This is an info message\n",
      "2025-07-10 15:15:25 - WARNING - This is a warning message\n",
      "2025-07-10 15:15:25 - ERROR - This is an error message\n",
      "2025-07-10 15:15:25 - CRITICAL - this is a critical message\n"
     ]
    }
   ],
   "source": [
    "## configuring logging\n",
    "logging.basicConfig(\n",
    "    level=logging.DEBUG,\n",
    "    format='%(asctime)s,-%(name)s-%(levelname)s-%(message)s',\n",
    "    datefmt= '%Y-%m-%d %H:%M:%S'\n",
    ")\n",
    "logging.debug(\"this a debug message\")\n",
    "logging.info(\"This is an info message\")\n",
    "logging.warning(\"This is a warning message\")\n",
    "logging.error(\"This is an error message\")\n",
    "logging.critical(\"this is a critical message\")"
   ]
  },
  {
   "cell_type": "code",
   "execution_count": null,
   "id": "59d47498",
   "metadata": {},
   "outputs": [],
   "source": []
  }
 ],
 "metadata": {
  "kernelspec": {
   "display_name": "Python 3",
   "language": "python",
   "name": "python3"
  },
  "language_info": {
   "codemirror_mode": {
    "name": "ipython",
    "version": 3
   },
   "file_extension": ".py",
   "mimetype": "text/x-python",
   "name": "python",
   "nbconvert_exporter": "python",
   "pygments_lexer": "ipython3",
   "version": "3.13.0"
  }
 },
 "nbformat": 4,
 "nbformat_minor": 5
}
