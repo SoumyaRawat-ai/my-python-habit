{
 "cells": [
  {
   "cell_type": "markdown",
   "metadata": {},
   "source": [
    "# Module 3: Data Structures Assignments\n",
    "## Lesson 3.3: Sets\n",
    "### Assignment 1: Creating and Accessing Sets\n",
    "\n",
    "Create a set with the first 10 positive integers. Print the set.\n",
    "\n",
    "### Assignment 2: Adding and Removing Elements\n",
    "\n",
    "Add the number 11 to the set created in Assignment 1. Then remove the number 1 from the set. Print the modified set.\n",
    "\n",
    "### Assignment 3: Set Operations\n",
    "\n",
    "Create two sets: one with the first 5 positive integers and another with the first 5 even integers. Perform and print the results of union, intersection, difference, and symmetric difference operations on these sets.\n",
    "\n",
    "### Assignment 4: Set Comprehensions\n",
    "\n",
    "Create a new set containing the squares of the first 10 positive integers using a set comprehension. Print the new set.\n",
    "\n",
    "### Assignment 5: Filtering Sets\n",
    "\n",
    "Create a new set containing only the even numbers from the set created in Assignment 1 using a set comprehension. Print the new set.\n",
    "\n",
    "### Assignment 6: Set Methods\n",
    "\n",
    "Create a set with duplicate elements and remove the duplicates using set methods. Print the modified set.\n",
    "\n",
    "### Assignment 7: Subsets and Supersets\n",
    "\n",
    "Create two sets: one with the first 5 positive integers and another with the first 3 positive integers. Check if the second set is a subset of the first set and if the first set is a superset of the second set. Print the results.\n",
    "\n",
    "### Assignment 8: Frozenset\n",
    "\n",
    "Create a frozenset with the first 5 positive integers. Print the frozenset.\n",
    "\n",
    "### Assignment 9: Set and List Conversion\n",
    "\n",
    "Create a set with the first 5 positive integers. Convert it to a list, append the number 6, and convert it back to a set. Print the resulting set.\n",
    "\n",
    "### Assignment 10: Set and Dictionary\n",
    "\n",
    "Create a dictionary with set keys and integer values. Print the dictionary.\n",
    "\n",
    "### Assignment 11: Iterating Over Sets\n",
    "\n",
    "Create a set and iterate over the elements, printing each element.\n",
    "\n",
    "### Assignment 12: Removing Elements from Sets\n",
    "\n",
    "Create a set and remove elements from it until it is empty. Print the set after each removal.\n",
    "\n",
    "### Assignment 13: Set Symmetric Difference Update\n",
    "\n",
    "Create two sets and update the first set with the symmetric difference of the two sets. Print the modified first set.\n",
    "\n",
    "### Assignment 14: Set Membership Testing\n",
    "\n",
    "Create a set and test if certain elements are present in the set. Print the results.\n",
    "\n",
    "### Assignment 15: Set of Tuples\n",
    "\n",
    "Create a set containing tuples, where each tuple contains two elements. Print the set."
   ]
  },
  {
   "cell_type": "code",
   "execution_count": 7,
   "metadata": {},
   "outputs": [
    {
     "name": "stdout",
     "output_type": "stream",
     "text": [
      "{1, 2, 3, 4, 5, 6, 7, 8, 9, 10}\n"
     ]
    }
   ],
   "source": [
    "st = set(range(1, 11))\n",
    "print(st)"
   ]
  },
  {
   "cell_type": "code",
   "execution_count": 8,
   "id": "d36039a7",
   "metadata": {},
   "outputs": [
    {
     "name": "stdout",
     "output_type": "stream",
     "text": [
      "{1, 2, 3, 4, 5, 6, 7, 8, 9, 10, 11}\n",
      "{2, 3, 4, 5, 6, 7, 8, 9, 10, 11}\n"
     ]
    }
   ],
   "source": [
    "st.add(11)\n",
    "print(st)\n",
    "st.remove(1)\n",
    "print(st)"
   ]
  },
  {
   "cell_type": "code",
   "execution_count": 2,
   "id": "a50561f1",
   "metadata": {},
   "outputs": [
    {
     "name": "stdout",
     "output_type": "stream",
     "text": [
      "{2, 4, 6, 8, 10}\n",
      "union: {1, 2, 3, 4, 5, 6, 8, 10}\n",
      "intersection: {2, 4}\n",
      "difference : {1, 3, 5}\n",
      "smt_diff{1, 3, 5, 6, 8, 10}\n"
     ]
    }
   ],
   "source": [
    "st1 = set(range(1, 6))\n",
    "st2 = set()\n",
    "for i in range(1, 11):\n",
    "    if i%2 ==0:\n",
    "        st2.add(i)\n",
    "print(st2)\n",
    "st3 = st1.union(st2)\n",
    "print(f\"union: {st3}\")\n",
    "st3 = st1.intersection(st2)\n",
    "print(f'intersection: {st3}')\n",
    "st3 = st1.difference(st2)\n",
    "print(f'difference : {st3}')\n",
    "st3 = st1.symmetric_difference(st2)\n",
    "print(f'smt_diff{st3}')"
   ]
  },
  {
   "cell_type": "code",
   "execution_count": 14,
   "id": "984cc486",
   "metadata": {},
   "outputs": [
    {
     "name": "stdout",
     "output_type": "stream",
     "text": [
      "{1, 2, 3, 4, 5}\n",
      "{2, 4, 6, 8, 10}\n",
      "union {1, 2, 3, 4, 5, 6, 8, 10}\n",
      "intersection {2, 4}\n",
      "difference {1, 3, 5}, {8, 10, 6}\n",
      "symmetric_difference {1, 3, 5, 6, 8, 10}\n"
     ]
    }
   ],
   "source": [
    "print(st1)\n",
    "print(st2)\n",
    "print(f\"union {st1 | st2}\")\n",
    "print(f\"intersection {st1 & st2}\")\n",
    "print(f\"difference {st1 - st2}, {st2 - st1}\")\n",
    "print(f\"symmetric_difference {st1 ^ st2}\")"
   ]
  },
  {
   "cell_type": "code",
   "execution_count": 16,
   "id": "8b0d96d8",
   "metadata": {},
   "outputs": [
    {
     "name": "stdout",
     "output_type": "stream",
     "text": [
      "{1, 2, 3, 4, 5, 6, 7, 8, 9, 10}\n",
      "{64, 1, 4, 36, 100, 9, 16, 49, 81, 25}\n"
     ]
    }
   ],
   "source": [
    "set4 = set(range(1, 11))\n",
    "print(set4)\n",
    "square = {x**2 for x in set4}\n",
    "print(square)"
   ]
  },
  {
   "cell_type": "code",
   "execution_count": 18,
   "id": "b57d6ee1",
   "metadata": {},
   "outputs": [
    {
     "name": "stdout",
     "output_type": "stream",
     "text": [
      "{2, 4, 6, 8, 10}\n"
     ]
    }
   ],
   "source": [
    "St4 = {x for x in st if x%2 ==0}\n",
    "print(St4)"
   ]
  },
  {
   "cell_type": "code",
   "execution_count": 20,
   "id": "fc136ce1",
   "metadata": {},
   "outputs": [
    {
     "name": "stdout",
     "output_type": "stream",
     "text": [
      "{1, 2, 3, 4, 5, 6}\n"
     ]
    }
   ],
   "source": [
    "st5 = {1, 2, 3, 4, 4, 4, 5, 6, 3, 5}\n",
    "unique = set(st5)\n",
    "print(unique)"
   ]
  },
  {
   "cell_type": "code",
   "execution_count": 54,
   "id": "695440c6",
   "metadata": {},
   "outputs": [
    {
     "data": {
      "text/plain": [
       "True"
      ]
     },
     "execution_count": 54,
     "metadata": {},
     "output_type": "execute_result"
    }
   ],
   "source": [
    "Set1 = set(range(1,6))\n",
    "Set2 = set(range(1, 4))\n",
    "Set1.issubset(Set2)\n",
    "Set2.issubset(Set1)\n"
   ]
  },
  {
   "cell_type": "code",
   "execution_count": 24,
   "id": "89f90f47",
   "metadata": {},
   "outputs": [
    {
     "name": "stdout",
     "output_type": "stream",
     "text": [
      "frozenset({1, 2, 3, 4, 5})\n"
     ]
    }
   ],
   "source": [
    "st1 = frozenset(range(1, 6))\n",
    "print(st1)"
   ]
  },
  {
   "cell_type": "code",
   "execution_count": 25,
   "id": "359bc99f",
   "metadata": {},
   "outputs": [
    {
     "name": "stdout",
     "output_type": "stream",
     "text": [
      "{1, 2, 3, 4, 5, 6}\n"
     ]
    }
   ],
   "source": [
    "st2 = set(range(1, 6))\n",
    "lst1 = list(st2)\n",
    "lst1.append(6)\n",
    "st2 = set(lst1)\n",
    "print(st2)"
   ]
  },
  {
   "cell_type": "code",
   "execution_count": 30,
   "id": "70f5477f",
   "metadata": {},
   "outputs": [
    {
     "name": "stdout",
     "output_type": "stream",
     "text": [
      "{frozenset({'soumya'}): 30, frozenset({'Prince'}): 28, frozenset({'Sriyansh'}): 34}\n"
     ]
    }
   ],
   "source": [
    "st = {\n",
    "    frozenset({'soumya'}) : 30,\n",
    "    frozenset({\"Prince\"}) :28,\n",
    "    frozenset({'Sriyansh'}) : 34\n",
    "}\n",
    "\n",
    "print(st)"
   ]
  },
  {
   "cell_type": "code",
   "execution_count": 52,
   "id": "6be1cb0b",
   "metadata": {},
   "outputs": [
    {
     "name": "stdout",
     "output_type": "stream",
     "text": [
      "012345"
     ]
    }
   ],
   "source": [
    "st23 = set(range(6))\n",
    "for i in st23:\n",
    "    print(i, end=\"\")"
   ]
  },
  {
   "cell_type": "code",
   "execution_count": 53,
   "id": "64db8e3d",
   "metadata": {},
   "outputs": [
    {
     "name": "stdout",
     "output_type": "stream",
     "text": [
      "{1, 2, 3, 4, 5}\n",
      "{2, 3, 4, 5}\n",
      "{3, 4, 5}\n",
      "{4, 5}\n",
      "{5}\n",
      "set()\n"
     ]
    }
   ],
   "source": [
    "while st23:\n",
    "    st23.pop()\n",
    "    print(st23)"
   ]
  },
  {
   "cell_type": "code",
   "execution_count": 41,
   "id": "dd700bc5",
   "metadata": {},
   "outputs": [
    {
     "name": "stdout",
     "output_type": "stream",
     "text": [
      "{1, 3, 4, 5, 7, 8, 9, 10}\n"
     ]
    }
   ],
   "source": [
    "st1 = set(range(1,5))\n",
    "st2 = {2, 5, 7, 8, 9, 10}\n",
    "st1 = st1.symmetric_difference(st2)\n",
    "print(st1)\n"
   ]
  },
  {
   "cell_type": "code",
   "execution_count": 51,
   "id": "d77f5166",
   "metadata": {},
   "outputs": [
    {
     "name": "stdout",
     "output_type": "stream",
     "text": [
      "True\n",
      "False\n"
     ]
    }
   ],
   "source": [
    "print(3 in st1)\n",
    "print(2 in st1)\n"
   ]
  },
  {
   "cell_type": "code",
   "execution_count": 50,
   "id": "8b00e622",
   "metadata": {},
   "outputs": [
    {
     "name": "stdout",
     "output_type": "stream",
     "text": [
      "{(1, 2), (3, 4), (5, 6)}\n"
     ]
    }
   ],
   "source": [
    "s = {(1, 2), (3, 4), (5, 6)}\n",
    "print(s)"
   ]
  },
  {
   "cell_type": "code",
   "execution_count": null,
   "id": "64001ae0",
   "metadata": {},
   "outputs": [],
   "source": []
  }
 ],
 "metadata": {
  "kernelspec": {
   "display_name": "Python 3",
   "language": "python",
   "name": "python3"
  },
  "language_info": {
   "codemirror_mode": {
    "name": "ipython",
    "version": 3
   },
   "file_extension": ".py",
   "mimetype": "text/x-python",
   "name": "python",
   "nbconvert_exporter": "python",
   "pygments_lexer": "ipython3",
   "version": "3.13.0"
  }
 },
 "nbformat": 4,
 "nbformat_minor": 5
}
