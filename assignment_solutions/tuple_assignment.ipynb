{
 "cells": [
  {
   "cell_type": "markdown",
   "id": "6cade624",
   "metadata": {},
   "source": [
    "# Module 3: Data Structures Assignments\n",
    "## Lesson 3.2: Tuples\n",
    "### Assignment 1: Creating and Accessing Tuples\n",
    "\n",
    "Create a tuple with the first 10 positive integers. Print the tuple.\n",
    "\n",
    "### Assignment 2: Accessing Tuple Elements\n",
    "\n",
    "Print the first, middle, and last elements of the tuple created in Assignment 1.\n",
    "\n",
    "### Assignment 3: Tuple Slicing\n",
    "\n",
    "Print the first three elements, the last three elements, and the elements from index 2 to 5 of the tuple created in Assignment 1.\n",
    "\n",
    "### Assignment 4: Nested Tuples\n",
    "\n",
    "Create a nested tuple representing a 3x3 matrix and print the matrix. Access and print the element at the second row and third column.\n",
    "\n",
    "### Assignment 5: Tuple Concatenation\n",
    "\n",
    "Concatenate two tuples: (1, 2, 3) and (4, 5, 6). Print the resulting tuple.\n",
    "\n",
    "### Assignment 6: Tuple Methods\n",
    "\n",
    "Create a tuple with duplicate elements and count the occurrences of an element. Find the index of the first occurrence of an element in the tuple.\n",
    "\n",
    "### Assignment 7: Unpacking Tuples\n",
    "\n",
    "Create a tuple with 5 elements and unpack it into 5 variables. Print the variables.\n",
    "\n",
    "### Assignment 8: Tuple Conversion\n",
    "\n",
    "Convert a list of the first 5 positive integers to a tuple. Print the tuple.\n",
    "\n",
    "### Assignment 9: Tuple of Tuples\n",
    "\n",
    "Create a tuple containing 3 tuples, each with 3 elements. Print the tuple of tuples.\n",
    "\n",
    "### Assignment 10: Tuple and List\n",
    "\n",
    "Create a tuple with the first 5 positive integers. Convert it to a list, append the number 6, and convert it back to a tuple. Print the resulting tuple.\n",
    "\n",
    "### Assignment 11: Tuple and String\n",
    "\n",
    "Create a tuple with the characters of a string. Join the tuple elements into a single string. Print the string.\n",
    "\n",
    "### Assignment 12: Tuple and Dictionary\n",
    "\n",
    "Create a dictionary with tuple keys and integer values. Print the dictionary.\n",
    "\n",
    "### Assignment 13: Nested Tuple Iteration\n",
    "\n",
    "Create a nested tuple and iterate over the elements, printing each element.\n",
    "\n",
    "### Assignment 14: Tuple and Set\n",
    "\n",
    "Create a tuple with duplicate elements. Convert it to a set to remove duplicates and print the resulting set.\n",
    "\n",
    "### Assignment 15: Tuple Functions\n",
    "\n",
    "Write functions that take a tuple and return the minimum, maximum, and sum of the elements. Print the results for a sample tuple."
   ]
  },
  {
   "cell_type": "code",
   "execution_count": 7,
   "metadata": {},
   "outputs": [
    {
     "name": "stdout",
     "output_type": "stream",
     "text": [
      "(1, 2, 3, 4, 5, 6, 7, 8, 9, 10)\n"
     ]
    }
   ],
   "source": [
    "tpl = tuple(range(1,11))\n",
    "print(tpl)"
   ]
  },
  {
   "cell_type": "code",
   "execution_count": 9,
   "id": "debc5704",
   "metadata": {},
   "outputs": [
    {
     "name": "stdout",
     "output_type": "stream",
     "text": [
      "1\n",
      "10\n",
      "(2, 3, 4, 5, 6, 7, 8, 9)\n"
     ]
    }
   ],
   "source": [
    "print(tpl[0])\n",
    "print(tpl[-1])\n",
    "print(tpl[1:-1])\n"
   ]
  },
  {
   "cell_type": "code",
   "execution_count": 16,
   "id": "27554c44",
   "metadata": {},
   "outputs": [
    {
     "name": "stdout",
     "output_type": "stream",
     "text": [
      "(1, 2, 3)\n",
      "(8, 9, 10)\n",
      "(3, 4, 5, 6)\n"
     ]
    }
   ],
   "source": [
    "print(tpl[:3])\n",
    "print(tpl[-3:])\n",
    "print(tpl[2:6])"
   ]
  },
  {
   "cell_type": "code",
   "execution_count": 43,
   "id": "fc881d72",
   "metadata": {},
   "outputs": [
    {
     "name": "stdout",
     "output_type": "stream",
     "text": [
      "((6, 3, 1), (6, 6, 7), (5, 5, 9))\n"
     ]
    }
   ],
   "source": [
    "import random\n",
    "matrix = tuple(tuple(random.randint(1,11) for i in range(3))for i in range(3))\n",
    "print(matrix)"
   ]
  },
  {
   "cell_type": "code",
   "execution_count": null,
   "id": "d9d1d518",
   "metadata": {},
   "outputs": [
    {
     "name": "stdout",
     "output_type": "stream",
     "text": [
      "(3, 4, 5, 5, 6, 7)\n"
     ]
    }
   ],
   "source": [
    "tuple1 = (3, 4, 5)\n",
    "tuple2 = (5, 6, 7)\n",
    "tuple3 = tuple1 + tuple2\n",
    "print(tuple3)"
   ]
  },
  {
   "cell_type": "code",
   "execution_count": 51,
   "id": "1d91366d",
   "metadata": {},
   "outputs": [
    {
     "name": "stdout",
     "output_type": "stream",
     "text": [
      "2\n"
     ]
    },
    {
     "data": {
      "text/plain": [
       "5"
      ]
     },
     "execution_count": 51,
     "metadata": {},
     "output_type": "execute_result"
    }
   ],
   "source": [
    "tuple4 = (3, 4, 5, 5, 6, 7,5,6,7,8,9)\n",
    "print(tuple4.count(7))\n",
    "tuple4.index(7)"
   ]
  },
  {
   "cell_type": "code",
   "execution_count": 56,
   "id": "201f5755",
   "metadata": {},
   "outputs": [
    {
     "name": "stdout",
     "output_type": "stream",
     "text": [
      "1 2 3 4 5\n"
     ]
    }
   ],
   "source": [
    "tuple5 = (1, 2, 3, 4, 5)\n",
    "a, b, c, d, e = tuple5\n",
    "print(a, b, c, d, e)"
   ]
  },
  {
   "cell_type": "code",
   "execution_count": 60,
   "id": "fe619bb8",
   "metadata": {},
   "outputs": [
    {
     "name": "stdout",
     "output_type": "stream",
     "text": [
      "(1, 2, 3)\n"
     ]
    }
   ],
   "source": [
    "lst = list((range(1,4)))\n",
    "tpl2 = tuple(lst)\n",
    "print(tpl2)"
   ]
  },
  {
   "cell_type": "code",
   "execution_count": 64,
   "id": "bdcdc284",
   "metadata": {},
   "outputs": [
    {
     "name": "stdout",
     "output_type": "stream",
     "text": [
      "((3, 2, 4), (2, 3, 1), (4, 4, 4))\n"
     ]
    }
   ],
   "source": [
    "Tuple5 = tuple(tuple(random.randint(1,6) for i in range(3))for i in range(3))\n",
    "print(Tuple5)"
   ]
  },
  {
   "cell_type": "code",
   "execution_count": 68,
   "id": "9c67ffb0",
   "metadata": {},
   "outputs": [
    {
     "name": "stdout",
     "output_type": "stream",
     "text": [
      "(1, 2, 3)\n",
      "(1, 2, 3, 6)\n"
     ]
    }
   ],
   "source": [
    "Tuple6 = tuple(range(1,4))\n",
    "print(Tuple6)\n",
    "lst2 = list(Tuple6)\n",
    "lst2.append(6)\n",
    "Tuple6 = tuple(lst2)\n",
    "print(Tuple6)"
   ]
  },
  {
   "cell_type": "code",
   "execution_count": 74,
   "id": "310131a7",
   "metadata": {},
   "outputs": [
    {
     "name": "stdout",
     "output_type": "stream",
     "text": [
      "soumya\n"
     ]
    }
   ],
   "source": [
    "Tuple7 = ('s', 'o', 'u', 'm', 'y', 'a')\n",
    "Variable = ''.join(Tuple7)\n",
    "print(Variable)"
   ]
  },
  {
   "cell_type": "code",
   "execution_count": 78,
   "id": "67a54db0",
   "metadata": {},
   "outputs": [
    {
     "name": "stdout",
     "output_type": "stream",
     "text": [
      "{'soumya': '40', 'Prince': 39, 'Sriyansh': 37}\n"
     ]
    }
   ],
   "source": [
    "disc = {('soumya'):'40', ('Prince') : 39, ('Sriyansh') : 37}\n",
    "print(disc)"
   ]
  },
  {
   "cell_type": "code",
   "execution_count": 81,
   "id": "3f6d1676",
   "metadata": {},
   "outputs": [
    {
     "name": "stdout",
     "output_type": "stream",
     "text": [
      "631667559"
     ]
    }
   ],
   "source": [
    "Tuple9 = ((6, 3, 1), (6, 6, 7), (5, 5, 9))\n",
    "\n",
    "for i in Tuple9:\n",
    "    for n in i:\n",
    "        print(n, end=\"\")"
   ]
  },
  {
   "cell_type": "code",
   "execution_count": 89,
   "id": "503e738b",
   "metadata": {},
   "outputs": [
    {
     "name": "stdout",
     "output_type": "stream",
     "text": [
      "<class 'tuple'>\n",
      "{1, 2, 3, 4, 5}\n",
      "(1, 2, 3, 4, 5)\n",
      "15\n",
      "5\n"
     ]
    }
   ],
   "source": [
    "Tuple_9 = (1, 2, 3, 4, 5, 5, 5, 3, 4, 5)\n",
    "print(type(Tuple_9))\n",
    "Set1 = set(Tuple_9)\n",
    "print(Set1)\n",
    "Tuple_9 = tuple(Set1)\n",
    "print(Tuple_9)\n",
    "print(sum(Tuple_9))\n",
    "print(max(Tuple_9))"
   ]
  },
  {
   "cell_type": "code",
   "execution_count": 92,
   "id": "d39ce8bf",
   "metadata": {},
   "outputs": [
    {
     "name": "stdout",
     "output_type": "stream",
     "text": [
      "max of tuple 5\n",
      "mix of tuple 1\n",
      "Sum of tuple 15\n"
     ]
    }
   ],
   "source": [
    "def Tuple_fun(A):\n",
    "    print(f\"max of tuple {max(A)}\")\n",
    "    print(f\"mix of tuple {min(A)}\")\n",
    "    print(f\"Sum of tuple {sum(A)}\")\n",
    "\n",
    "Tuple_fun(Tuple_9)"
   ]
  },
  {
   "cell_type": "code",
   "execution_count": null,
   "id": "35bb7fcd",
   "metadata": {},
   "outputs": [],
   "source": []
  }
 ],
 "metadata": {
  "kernelspec": {
   "display_name": "Python 3",
   "language": "python",
   "name": "python3"
  },
  "language_info": {
   "codemirror_mode": {
    "name": "ipython",
    "version": 3
   },
   "file_extension": ".py",
   "mimetype": "text/x-python",
   "name": "python",
   "nbconvert_exporter": "python",
   "pygments_lexer": "ipython3",
   "version": "3.13.0"
  }
 },
 "nbformat": 4,
 "nbformat_minor": 5
}
