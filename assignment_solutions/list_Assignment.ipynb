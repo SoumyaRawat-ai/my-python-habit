{
 "cells": [
  {
   "cell_type": "markdown",
   "metadata": {},
   "source": [
    "# Module 3: Data Structures Assignments\n",
    "## Lesson 3.1: Lists\n",
    "### Assignment 1: Creating and Accessing Lists\n",
    "\n",
    "Create a list of the first 20 positive integers. Print the list.\n",
    "\n",
    "### Assignment 2: Accessing List Elements\n",
    "\n",
    "Print the first, middle, and last elements of the list created in Assignment 1.\n",
    "\n",
    "### Assignment 3: List Slicing\n",
    "\n",
    "Print the first five elements, the last five elements, and the elements from index 5 to 15 of the list created in Assignment 1.\n",
    "\n",
    "### Assignment 4: List Comprehensions\n",
    "\n",
    "Create a new list containing the squares of the first 10 positive integers using a list comprehension. Print the new list.\n",
    "\n",
    "### Assignment 5: Filtering Lists\n",
    "\n",
    "Create a new list containing only the even numbers from the list created in Assignment 1 using a list comprehension. Print the new list.\n",
    "\n",
    "### Assignment 6: List Methods\n",
    "\n",
    "Create a list of random numbers and sort it in ascending and descending order. Remove the duplicates from the list and print the modified list.\n",
    "\n",
    "### Assignment 7: Nested Lists\n",
    "\n",
    "Create a nested list representing a 3x3 matrix and print the matrix. Access and print the element at the second row and third column.\n",
    "\n",
    "### Assignment 8: List of Dictionaries\n",
    "\n",
    "Create a list of dictionaries where each dictionary represents a student with keys 'name' and 'score'. Sort the list of dictionaries by the 'score' in descending order and print the sorted list.\n",
    "\n",
    "### Assignment 9: Matrix Transposition\n",
    "\n",
    "Write a function that takes a 3x3 matrix (nested list) as input and returns its transpose. Print the original and transposed matrices.\n",
    "\n",
    "### Assignment 10: Flattening a Nested List\n",
    "\n",
    "Write a function that takes a nested list and flattens it into a single list. Print the original and flattened lists.\n",
    "\n",
    "### Assignment 11: List Manipulation\n",
    "\n",
    "Create a list of the first 10 positive integers. Remove the elements at indices 2, 4, and 6, and insert the element '99' at index 5. Print the modified list.\n",
    "\n",
    "### Assignment 12: List Zipping\n",
    "\n",
    "Create two lists of the same length. Use the `zip` function to combine these lists into a list of tuples and print the result.\n",
    "\n",
    "### Assignment 13: List Reversal\n",
    "\n",
    "Write a function that takes a list and returns a new list with the elements in reverse order. Print the original and reversed lists.\n",
    "\n",
    "### Assignment 14: List Rotation\n",
    "\n",
    "Write a function that rotates a list by n positions. Print the original and rotated lists.\n",
    "\n",
    "### Assignment 15: List Intersection\n",
    "\n",
    "Write a function that takes two lists and returns a new list containing only the elements that are present in both lists. Print the intersected list."
   ]
  },
  {
   "cell_type": "code",
   "execution_count": 2,
   "metadata": {},
   "outputs": [
    {
     "name": "stdout",
     "output_type": "stream",
     "text": [
      "[1, 2, 3, 4, 5, 6, 7, 8, 9, 10, 11, 12, 13, 14, 15, 16, 17, 18, 19, 20]\n"
     ]
    }
   ],
   "source": [
    "list_positive_integer = []\n",
    "for i in range(1,21):\n",
    "    list_positive_integer.append(i)\n",
    "\n",
    "print(list_positive_integer)"
   ]
  },
  {
   "cell_type": "code",
   "execution_count": 3,
   "id": "cf74f064",
   "metadata": {},
   "outputs": [
    {
     "name": "stdout",
     "output_type": "stream",
     "text": [
      "1\n",
      "11\n",
      "20\n"
     ]
    }
   ],
   "source": [
    "print(list_positive_integer[0])\n",
    "print(list_positive_integer[len(list_positive_integer) // 2])\n",
    "print(list_positive_integer[19])"
   ]
  },
  {
   "cell_type": "code",
   "execution_count": 7,
   "id": "80a43141",
   "metadata": {},
   "outputs": [
    {
     "name": "stdout",
     "output_type": "stream",
     "text": [
      "[1, 2, 3, 4, 5]\n",
      "[16, 17, 18, 19, 20]\n",
      "[6, 7, 8, 9, 10, 11, 12, 13, 14, 15]\n"
     ]
    }
   ],
   "source": [
    "print(list_positive_integer[0:5])\n",
    "print(list_positive_integer[-5:])\n",
    "print(list_positive_integer[5:-5])"
   ]
  },
  {
   "cell_type": "code",
   "execution_count": 4,
   "id": "b6eb37df",
   "metadata": {},
   "outputs": [
    {
     "name": "stdout",
     "output_type": "stream",
     "text": [
      "[1, 4, 9, 16, 25, 36, 49, 64, 81, 100, 121, 144, 169, 196, 225, 256, 289, 324, 361, 400]\n"
     ]
    }
   ],
   "source": [
    "square_list = [x**2 for x in list_positive_integer]\n",
    "print(square_list)"
   ]
  },
  {
   "cell_type": "code",
   "execution_count": 5,
   "id": "a4c65757",
   "metadata": {},
   "outputs": [
    {
     "name": "stdout",
     "output_type": "stream",
     "text": [
      "[2, 4, 6, 8, 10, 12, 14, 16, 18, 20]\n"
     ]
    }
   ],
   "source": [
    "even_list = [x for x in list_positive_integer if x%2 ==0]\n",
    "print(even_list)\n"
   ]
  },
  {
   "cell_type": "code",
   "execution_count": 7,
   "id": "b054f2fe",
   "metadata": {},
   "outputs": [],
   "source": [
    "import random"
   ]
  },
  {
   "cell_type": "code",
   "execution_count": 8,
   "id": "b8117f5d",
   "metadata": {},
   "outputs": [
    {
     "name": "stdout",
     "output_type": "stream",
     "text": [
      "[4, 4, 6, 6, 8, 5, 3, 9, 9, 7, 5, 9, 5, 10, 1]\n"
     ]
    }
   ],
   "source": [
    "random_list = [random.randint(1,10) for i in range(15)]\n",
    "print(random_list)"
   ]
  },
  {
   "cell_type": "code",
   "execution_count": null,
   "id": "770135cd",
   "metadata": {},
   "outputs": [
    {
     "name": "stdout",
     "output_type": "stream",
     "text": [
      "[1, 3, 4, 4, 5, 5, 5, 6, 6, 7, 8, 9, 9, 9, 10]\n",
      "[10, 9, 9, 9, 8, 7, 6, 6, 5, 5, 5, 4, 4, 3, 1]\n"
     ]
    }
   ],
   "source": [
    "random_list.sort()\n",
    "print(random_list)\n",
    "random_list = sorted(random_list, reverse=True)\n",
    "print(random_list)"
   ]
  },
  {
   "cell_type": "code",
   "execution_count": null,
   "id": "e6966040",
   "metadata": {},
   "outputs": [
    {
     "name": "stdout",
     "output_type": "stream",
     "text": [
      "{1, 2, 4, 5, 7, 8, 9, 10, 12, 15, 16, 17, 18, 20}\n",
      "[1, 2, 4, 5, 7, 8, 9, 10, 12, 15, 16, 17, 18, 20]\n"
     ]
    }
   ],
   "source": [
    "random_list = list(set(random_list))\n",
    "print(random_list)"
   ]
  },
  {
   "cell_type": "code",
   "execution_count": 23,
   "id": "81044db3",
   "metadata": {},
   "outputs": [
    {
     "name": "stdout",
     "output_type": "stream",
     "text": [
      "[[9, 9, 9], [9, 9, 9], [8, 8, 8]]\n"
     ]
    }
   ],
   "source": [
    "matrix = [[random.randint(1, 10)] * 3 for _ in range(1, 4)]\n",
    "print(matrix)"
   ]
  },
  {
   "cell_type": "code",
   "execution_count": 20,
   "id": "ea7e4bcf",
   "metadata": {},
   "outputs": [
    {
     "name": "stdout",
     "output_type": "stream",
     "text": [
      "[[5, 4, 6], [10, 5, 6], [6, 10, 8]]\n"
     ]
    }
   ],
   "source": [
    "matrix_list = []\n",
    "small_list = []\n",
    "for i in range(0,3):\n",
    "    small_list = [random.randint(1,10), random.randint(1,10), random.randint(1,10)]\n",
    "    matrix_list.append(small_list)\n",
    "print(matrix_list)\n"
   ]
  },
  {
   "cell_type": "code",
   "execution_count": 32,
   "id": "678449a0",
   "metadata": {},
   "outputs": [
    {
     "name": "stdout",
     "output_type": "stream",
     "text": [
      "6\n"
     ]
    }
   ],
   "source": [
    "print(matrix_list[1][2])"
   ]
  },
  {
   "cell_type": "code",
   "execution_count": 33,
   "id": "13824a6b",
   "metadata": {},
   "outputs": [
    {
     "name": "stdout",
     "output_type": "stream",
     "text": [
      "[{'name': 'Soumya', 'score': 30}, {'name': 'Aman', 'score': 27}, {'name': 'Mohit', 'score': 21}, {'name': 'Rohit', 'score': 18}, {'name': 'depak', 'score': 12}, {'name': 'Neeraj', 'score': 3}]\n"
     ]
    }
   ],
   "source": [
    "student_record = [{\"name\": \"Soumya\", \"score\": 30}, {\"name\" : \"Aman\", \"score\" : 27}, {\"name\" : \"Neeraj\", \"score\": 3}, {\"name\":\"Rohit\", \"score\": 18}, {\"name\" : \"Mohit\", \"score\" : 21}, {\"name\": \"depak\", \"score\" : 12}]\n",
    "\n",
    "from operator import itemgetter\n",
    "new_list = sorted(student_record, key= lambda x: x[\"score\"], reverse=True)\n",
    "\n",
    "print(new_list)\n"
   ]
  },
  {
   "cell_type": "code",
   "execution_count": 13,
   "id": "d6c1b4db",
   "metadata": {},
   "outputs": [
    {
     "name": "stdout",
     "output_type": "stream",
     "text": [
      "[[1, 4, 7], [2, 5, 8], [3, 6, 9]]\n"
     ]
    }
   ],
   "source": [
    "matrix = [[1, 2, 3], [4, 5, 6], [7, 8, 9]]\n",
    "row = len(matrix)\n",
    "column = len(matrix[0])\n",
    "\n",
    "def transpose(A):\n",
    "    B = [[0] * row for _ in range(column)]\n",
    "    for i in range(3):\n",
    "        for n in range(column):\n",
    "            B[i][n] = A[n][i]\n",
    "    return B\n",
    "b = transpose((matrix))\n",
    "print(b)"
   ]
  },
  {
   "cell_type": "code",
   "execution_count": 14,
   "id": "94a3c2f9",
   "metadata": {},
   "outputs": [
    {
     "name": "stdout",
     "output_type": "stream",
     "text": [
      "[[1, 2, 3], [4, 5, 6], [7, 8, 9]]\n"
     ]
    }
   ],
   "source": [
    "def transpose_matrix(matrix):\n",
    "    new_matrix = [[matrix[j][i] for j in range(len(matrix))]for i in range(len(matrix[0]))]\n",
    "    return new_matrix\n",
    "\n",
    "transpose_matrix(matrix)\n",
    "print(matrix)"
   ]
  },
  {
   "cell_type": "code",
   "execution_count": 15,
   "id": "3781bd27",
   "metadata": {},
   "outputs": [
    {
     "name": "stdout",
     "output_type": "stream",
     "text": [
      "[[1, 1, 1, 1], [3, 3, 3, 3], [4, 4, 4, 4], [1, 1, 1, 1]]\n"
     ]
    }
   ],
   "source": [
    "import random\n",
    "C = [[random.randint(1,10)] * 4 for _ in range(4)]\n",
    "print(C)"
   ]
  },
  {
   "cell_type": "code",
   "execution_count": 18,
   "id": "83c01234",
   "metadata": {},
   "outputs": [
    {
     "name": "stdout",
     "output_type": "stream",
     "text": [
      "[1, 1, 1, 1, 3, 3, 3, 3, 4, 4, 4, 4, 1, 1, 1, 1]\n",
      "[1, 1, 1, 1, 3, 3, 3, 3, 4, 4, 4, 4, 1, 1, 1, 1]\n"
     ]
    }
   ],
   "source": [
    "def fatten_list1(A):\n",
    "    B = []\n",
    "    for i in A:\n",
    "        for n in i:\n",
    "            B.append(n)\n",
    "    return B\n",
    "\n",
    "Fatten_list = fatten_list1(C)\n",
    "print(Fatten_list)\n",
    "\n",
    "def fatten_list(A):\n",
    "    new_list = [item for i in A for item in i]\n",
    "    return new_list\n",
    "c = fatten_list(C)\n",
    "print(c)"
   ]
  },
  {
   "cell_type": "code",
   "execution_count": 27,
   "id": "67a90923",
   "metadata": {},
   "outputs": [
    {
     "name": "stdout",
     "output_type": "stream",
     "text": [
      "[1, 2, 4, 5, 7, 99, 10]\n"
     ]
    }
   ],
   "source": [
    "b = []\n",
    "for i in range(1, 11):\n",
    "    b.append(i)\n",
    "\n",
    "\n",
    "del b[2], b[4], b[6]\n",
    "b[5] = 99\n",
    "print(b)"
   ]
  },
  {
   "cell_type": "code",
   "execution_count": 19,
   "id": "39b4795d",
   "metadata": {},
   "outputs": [
    {
     "name": "stdout",
     "output_type": "stream",
     "text": [
      "[(1, 2), (2, 3), (3, 4), (4, 5), (5, 6), (6, 7), (7, 8), (8, 9), (9, 10), (10, 11)]\n"
     ]
    }
   ],
   "source": [
    "a = []\n",
    "b = []\n",
    "for i in range(1, 11):\n",
    "    a.append(i)\n",
    "    i+=1\n",
    "    b.append(i)\n",
    "\n",
    "c = list((zip(a,b)))\n",
    "print(c)\n"
   ]
  },
  {
   "cell_type": "code",
   "execution_count": 20,
   "id": "384deb20",
   "metadata": {},
   "outputs": [
    {
     "name": "stdout",
     "output_type": "stream",
     "text": [
      "[1, 2, 3, 4, 5, 6, 7, 8, 9, 10]\n",
      "[10, 9, 8, 7, 6, 5, 4, 3, 2, 1]\n"
     ]
    }
   ],
   "source": [
    "def revers_list(A):\n",
    "   return A[::-1]\n",
    "print(a)\n",
    "C = revers_list(a)\n",
    "\n",
    "print(C)"
   ]
  },
  {
   "cell_type": "code",
   "execution_count": 23,
   "id": "665e20dc",
   "metadata": {},
   "outputs": [
    {
     "name": "stdout",
     "output_type": "stream",
     "text": [
      "[7, 8, 9, 10, 11, 2, 3, 4, 5, 6]\n"
     ]
    }
   ],
   "source": [
    "def rotaion_list(n, A):\n",
    "    c = A[n:] + A[:n]\n",
    "    return c\n",
    "d = rotaion_list(5, b)\n",
    "print(d)"
   ]
  },
  {
   "cell_type": "code",
   "execution_count": 27,
   "id": "e272fdff",
   "metadata": {},
   "outputs": [
    {
     "name": "stdout",
     "output_type": "stream",
     "text": [
      "[5, 5, 7]\n"
     ]
    }
   ],
   "source": [
    "a = [4, 5, 3, 5,7]\n",
    "b = [5, 7, 9, 10, 15]\n",
    "def duplicate(a,b):\n",
    "    new_list = [i for i in a if i in b]\n",
    "    return new_list\n",
    "e = duplicate(a,b)\n",
    "print(e)"
   ]
  },
  {
   "cell_type": "code",
   "execution_count": null,
   "id": "02594368",
   "metadata": {},
   "outputs": [],
   "source": []
  }
 ],
 "metadata": {
  "kernelspec": {
   "display_name": "Python 3",
   "language": "python",
   "name": "python3"
  },
  "language_info": {
   "codemirror_mode": {
    "name": "ipython",
    "version": 3
   },
   "file_extension": ".py",
   "mimetype": "text/x-python",
   "name": "python",
   "nbconvert_exporter": "python",
   "pygments_lexer": "ipython3",
   "version": "3.13.0"
  }
 },
 "nbformat": 4,
 "nbformat_minor": 5
}
