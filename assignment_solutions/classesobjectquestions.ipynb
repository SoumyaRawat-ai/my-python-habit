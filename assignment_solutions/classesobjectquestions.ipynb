{
 "cells": [
  {
   "cell_type": "markdown",
   "metadata": {},
   "source": [
    "# Module: Classes and Objects Assignments\n",
    "## Lesson: Creating and Working with Classes and Objects\n",
    "### Assignment 1: Basic Class and Object Creation\n",
    "\n",
    "Create a class named `Car` with attributes `make`, `model`, and `year`. Create an object of the class and print its attributes.\n",
    "\n",
    "### Assignment 2: Methods in Class\n",
    "\n",
    "Add a method named `start_engine` to the `Car` class that prints a message when the engine starts. Create an object of the class and call the method.\n",
    "\n",
    "### Assignment 3: Class with Constructor\n",
    "\n",
    "Create a class named `Student` with attributes `name` and `age`. Use a constructor to initialize these attributes. Create an object of the class and print its attributes.\n",
    "\n",
    "### Assignment 4: Class with Private Attributes\n",
    "\n",
    "Create a class named `BankAccount` with private attributes `account_number` and `balance`. Add methods to deposit and withdraw money, and to check the balance. Create an object of the class and perform some operations.\n",
    "\n",
    "### Assignment 5: Class Inheritance\n",
    "\n",
    "Create a base class named `Person` with attributes `name` and `age`. Create a derived class named `Employee` that inherits from `Person` and adds an attribute `employee_id`. Create an object of the derived class and print its attributes.\n",
    "\n",
    "### Assignment 6: Method Overriding\n",
    "\n",
    "In the `Employee` class, override the `__str__` method to return a string representation of the object. Create an object of the class and print it.\n",
    "\n",
    "### Assignment 7: Class Composition\n",
    "\n",
    "Create a class named `Address` with attributes `street`, `city`, and `zipcode`. Create a class named `Person` that has an `Address` object as an attribute. Create an object of the `Person` class and print its address.\n",
    "\n",
    "### Assignment 8: Class with Class Variables\n",
    "\n",
    "Create a class named `Counter` with a class variable `count`. Each time an object is created, increment the count. Add a method to get the current count. Create multiple objects and print the count.\n",
    "\n",
    "### Assignment 9: Static Methods\n",
    "\n",
    "Create a class named `MathOperations` with a static method to calculate the square root of a number. Call the static method without creating an object.\n",
    "\n",
    "### Assignment 10: Class with Properties\n",
    "\n",
    "Create a class named `Rectangle` with private attributes `length` and `width`. Use properties to get and set these attributes. Create an object of the class and test the properties.\n",
    "\n",
    "### Assignment 11: Abstract Base Class\n",
    "\n",
    "Create an abstract base class named `Shape` with an abstract method `area`. Create derived classes `Circle` and `Square` that implement the `area` method. Create objects of the derived classes and call the `area` method.\n",
    "\n",
    "### Assignment 12: Operator Overloading\n",
    "\n",
    "Create a class named `Vector` with attributes `x` and `y`. Overload the `+` operator to add two `Vector` objects. Create objects of the class and test the operator overloading.\n",
    "\n",
    "### Assignment 13: Class with Custom Exception\n",
    "\n",
    "Create a custom exception named `InsufficientBalanceError`. In the `BankAccount` class, raise this exception when a withdrawal amount is greater than the balance. Handle the exception and print an appropriate message.\n",
    "\n",
    "### Assignment 14: Class with Context Manager\n",
    "\n",
    "Create a class named `FileManager` that implements the context manager protocol to open and close a file. Use this class to read the contents of a file.\n",
    "\n",
    "### Assignment 15: Chaining Methods\n",
    "\n",
    "Create a class named `Calculator` with methods to add, subtract, multiply, and divide. Each method should return the object itself to allow method chaining. Create an object and chain multiple method calls."
   ]
  },
  {
   "cell_type": "code",
   "execution_count": 2,
   "metadata": {},
   "outputs": [
    {
     "name": "stdout",
     "output_type": "stream",
     "text": [
      "Engine started\n"
     ]
    }
   ],
   "source": [
    "class Car:\n",
    "    def __init__(self, make, model, year):\n",
    "        self.make = make\n",
    "        self.model = model\n",
    "        self.year = year\n",
    "    def start_engine(self):\n",
    "        print('Engine started')\n",
    "\n",
    "car = Car('bmw', 'petrol', 2018)\n",
    "car.start_engine()"
   ]
  },
  {
   "cell_type": "code",
   "execution_count": 3,
   "id": "e44b3921",
   "metadata": {},
   "outputs": [
    {
     "name": "stdout",
     "output_type": "stream",
     "text": [
      "Soumya\n",
      "23\n"
     ]
    }
   ],
   "source": [
    "class Student:\n",
    "    def __init__(self, name, age):\n",
    "        self.name = name\n",
    "        self.age = age\n",
    "    \n",
    "student1 = Student('Soumya', 23)\n",
    "print(student1.name)\n",
    "print(student1.age)"
   ]
  },
  {
   "cell_type": "code",
   "execution_count": 6,
   "id": "3a7ffc24",
   "metadata": {},
   "outputs": [],
   "source": [
    "class BankAccount:\n",
    "    def __init__(self, account_number):\n",
    "        self.__account_number = account_number\n",
    "        self.__balance = 0\n",
    "    def deposit(self, deposit):\n",
    "        self.__balance += deposit\n",
    "    def withdraw(self, withdraw_amount):\n",
    "        if withdraw_amount > self.__balance:\n",
    "            print('your bank balance is insufficient')\n",
    "        else:\n",
    "            self.__balance -= withdraw_amount\n",
    "    def check_balance(self):\n",
    "        print(self.__balance)"
   ]
  },
  {
   "cell_type": "code",
   "execution_count": 11,
   "id": "7eae3d63",
   "metadata": {},
   "outputs": [
    {
     "name": "stdout",
     "output_type": "stream",
     "text": [
      "0\n",
      "your bank balance is insufficient\n",
      "200\n"
     ]
    }
   ],
   "source": [
    "bank = BankAccount(12345)\n",
    "bank.check_balance()\n",
    "bank.deposit(500)\n",
    "bank.withdraw(700)\n",
    "bank.withdraw(300)\n",
    "bank.check_balance()"
   ]
  },
  {
   "cell_type": "code",
   "execution_count": 19,
   "id": "0f916565",
   "metadata": {},
   "outputs": [],
   "source": [
    "class Person:\n",
    "    def __init__(self, name, age):\n",
    "        self.name = name\n",
    "        self.age = age\n",
    "\n",
    "class Employee(Person):\n",
    "    def __init__(self, name, age, employee_id):\n",
    "        super().__init__(name, age)\n",
    "        self.employee_id = employee_id\n",
    "    def __str__(self):\n",
    "        return f\" Name: {self.name}, age: {self.age}, employee_id:  {self.employee_id}\""
   ]
  },
  {
   "cell_type": "code",
   "execution_count": 20,
   "id": "8ca125ae",
   "metadata": {},
   "outputs": [
    {
     "name": "stdout",
     "output_type": "stream",
     "text": [
      " Name: Soumya, age: 23, employee_id:  23956\n"
     ]
    }
   ],
   "source": [
    "emp1 = Employee('Soumya', 23, 23956)\n",
    "print(emp1)"
   ]
  },
  {
   "cell_type": "code",
   "execution_count": 35,
   "id": "2d285951",
   "metadata": {},
   "outputs": [],
   "source": [
    "class Address:\n",
    "    def __init__(self, street, city, zipcode):\n",
    "        self.street = street\n",
    "        self.city = city\n",
    "        self.zipcode = zipcode\n",
    "\n",
    "class Person:\n",
    "    def __init__(self, name, age, address):\n",
    "        self.name = name\n",
    "        self.age = age\n",
    "        self.address = address\n"
   ]
  },
  {
   "cell_type": "code",
   "execution_count": null,
   "id": "58129508",
   "metadata": {},
   "outputs": [
    {
     "name": "stdout",
     "output_type": "stream",
     "text": [
      "Soumya 24 Roorkee Azad_nagar 247667\n"
     ]
    }
   ],
   "source": [
    "add = Address('Azad_nagar', 'Roorkee', 247667)\n",
    "per = Person('Soumya', 24, add)\n",
    "print(per.name, per.age, per.address.city, per.address.street, per.address.zipcode)"
   ]
  },
  {
   "cell_type": "code",
   "execution_count": 70,
   "id": "f9004558",
   "metadata": {},
   "outputs": [
    {
     "name": "stdout",
     "output_type": "stream",
     "text": [
      "4\n"
     ]
    }
   ],
   "source": [
    "class Counter:\n",
    "    count = 0\n",
    "    def __init__(self):\n",
    "        Counter.count +=1\n",
    "    @classmethod\n",
    "    def get_count(cls):\n",
    "        return cls.count\n",
    "\n",
    "a = Counter()\n",
    "b = Counter()\n",
    "c = Counter()\n",
    "d = Counter()\n",
    "print(Counter.get_count())\n"
   ]
  },
  {
   "cell_type": "code",
   "execution_count": 71,
   "id": "5a3ee901",
   "metadata": {},
   "outputs": [],
   "source": [
    "import math\n",
    "class MathCalcution:\n",
    "    @staticmethod\n",
    "    def sqrt(x):\n",
    "        return math.sqrt(x)"
   ]
  },
  {
   "cell_type": "code",
   "execution_count": 75,
   "id": "ee83e333",
   "metadata": {},
   "outputs": [
    {
     "name": "stdout",
     "output_type": "stream",
     "text": [
      "2.0\n"
     ]
    }
   ],
   "source": [
    "print(MathCalcution.sqrt(4))"
   ]
  },
  {
   "cell_type": "code",
   "execution_count": 88,
   "id": "7f4aa84b",
   "metadata": {},
   "outputs": [],
   "source": [
    "class Rectangle:\n",
    "    def __init__(self, length, breath):\n",
    "        self.__length = length\n",
    "        self.__breath = breath\n",
    "    @property\n",
    "    def length(self):\n",
    "        return self.__length\n",
    "    @length.setter\n",
    "    def length(self, length):\n",
    "        self.__length = length\n",
    "    \n",
    "    @property\n",
    "    def breath(self):\n",
    "        return self.__breath\n",
    "    @breath.setter\n",
    "    def breath(self, breath):\n",
    "        self.__breath = breath"
   ]
  },
  {
   "cell_type": "code",
   "execution_count": 90,
   "id": "7582a2e1",
   "metadata": {},
   "outputs": [
    {
     "name": "stdout",
     "output_type": "stream",
     "text": [
      "4 5\n",
      "8 19\n"
     ]
    }
   ],
   "source": [
    "rect = Rectangle(4, 5)\n",
    "print(rect.length, rect.breath)\n",
    "rect.breath = 8\n",
    "rect.length = 19\n",
    "print(rect.breath, rect.length)"
   ]
  },
  {
   "cell_type": "code",
   "execution_count": null,
   "id": "4b62b9cc",
   "metadata": {},
   "outputs": [],
   "source": [
    "from abc import ABC, abstractmethod\n",
    "class Shape(ABC):\n",
    "    @abstractmethod\n",
    "    def Area(self):\n",
    "        pass\n",
    "\n",
    "\n",
    "class Square(Shape):\n",
    "    def __init__(self, side):\n",
    "        self.side = side\n",
    "    def Area(self):\n",
    "        return self.side**2\n",
    "    \n",
    "\n",
    "class Circle(Shape):\n",
    "    def __init__(self, radius):\n",
    "        self.radius = radius\n",
    "    def Area(self):\n",
    "        return 22/7 * self.radius**2"
   ]
  },
  {
   "cell_type": "code",
   "execution_count": 105,
   "id": "7bf72f31",
   "metadata": {},
   "outputs": [
    {
     "name": "stdout",
     "output_type": "stream",
     "text": [
      "16\n",
      "113.14285714285714\n"
     ]
    }
   ],
   "source": [
    "sq = Square(4)\n",
    "print(sq.Area())\n",
    "cir = Circle(6)\n",
    "print(cir.Area())"
   ]
  },
  {
   "cell_type": "code",
   "execution_count": 111,
   "id": "287ee3b8",
   "metadata": {},
   "outputs": [],
   "source": [
    "class Vector:\n",
    "    def __init__(self, x, y):\n",
    "        self.x = x\n",
    "        self.y = y\n",
    "\n",
    "    def __add__(self, other):\n",
    "        return Vector(self.x + other.x, self.y + other.y)\n",
    "    def __str__(self):\n",
    "        return f\"Vector({self.x}, {self.y})\""
   ]
  },
  {
   "cell_type": "code",
   "execution_count": 112,
   "id": "5e19090d",
   "metadata": {},
   "outputs": [
    {
     "name": "stdout",
     "output_type": "stream",
     "text": [
      "Vector(9, 12)\n"
     ]
    }
   ],
   "source": [
    "vec = Vector(3,5)\n",
    "vec2 = Vector(6,7)\n",
    "vec3 = vec + vec2\n",
    "print(vec3)"
   ]
  },
  {
   "cell_type": "code",
   "execution_count": 115,
   "id": "bb682279",
   "metadata": {},
   "outputs": [],
   "source": [
    "class InsufficientBalance(Exception):\n",
    "    pass\n",
    "\n",
    "class Bank:\n",
    "    def __init__(self, Account_no):\n",
    "        self.Account_no = Account_no\n",
    "        self.balance = 0\n",
    "\n",
    "    def withdraw(self, withdraw):\n",
    "        if self.balance < withdraw:\n",
    "            raise InsufficientBalance(\"Insufficient Balance!\")\n",
    "        else:\n",
    "            self.balance -= withdraw\n",
    "    def deposit(self, deposit):\n",
    "        self.balance += deposit\n",
    "    def check_balance(self):\n",
    "        print(self.balance)"
   ]
  },
  {
   "cell_type": "code",
   "execution_count": 117,
   "id": "78b5626a",
   "metadata": {},
   "outputs": [
    {
     "name": "stdout",
     "output_type": "stream",
     "text": [
      "Insufficient Balance!\n",
      "400\n"
     ]
    }
   ],
   "source": [
    "bank =Bank(2345)\n",
    "bank.check_balance\n",
    "try:\n",
    "    bank.withdraw(2000)\n",
    "except InsufficientBalance as e:\n",
    "    print(e)\n",
    "bank.deposit(400)\n",
    "bank.check_balance()"
   ]
  },
  {
   "cell_type": "code",
   "execution_count": 118,
   "id": "f0b2d8f2",
   "metadata": {},
   "outputs": [],
   "source": [
    "class Read_file:\n",
    "    def __init__(self, file, mode):\n",
    "        self.file = file\n",
    "        self.mode = mode\n",
    "    \n",
    "    def __enter__(self):\n",
    "        self.files =  open(self.file, self.mode)\n",
    "        return self.files\n",
    "    \n",
    "    def __exit__(self, exc_type, exC_value, traceback):\n",
    "        self.files.close()"
   ]
  },
  {
   "cell_type": "code",
   "execution_count": 120,
   "id": "39eaa5d2",
   "metadata": {},
   "outputs": [],
   "source": [
    "with Read_file('sample.txt', 'w') as file:\n",
    "    file.write(\"hello i am hi\")"
   ]
  },
  {
   "cell_type": "code",
   "execution_count": 121,
   "id": "7071611b",
   "metadata": {},
   "outputs": [],
   "source": [
    "class Calculator:\n",
    "    def __init__(self, value = 0):\n",
    "        self.value = value\n",
    "    \n",
    "    def add(self, amount):\n",
    "        self.value += amount\n",
    "        return self\n",
    "    \n",
    "    def sub(self, amount):\n",
    "        self.value -= amount\n",
    "        return self\n",
    "    \n",
    "    def mul(self, amount):\n",
    "        self.value *= amount\n",
    "        return self\n",
    "    \n",
    "    def divide(self, amount):\n",
    "        if  amount != 0:\n",
    "            self.value /= amount\n",
    "        else:\n",
    "            print('can not divide')\n",
    "        return self"
   ]
  },
  {
   "cell_type": "code",
   "execution_count": null,
   "id": "97149841",
   "metadata": {},
   "outputs": [
    {
     "name": "stdout",
     "output_type": "stream",
     "text": [
      "1.5\n"
     ]
    },
    {
     "ename": "",
     "evalue": "",
     "output_type": "error",
     "traceback": [
      "\u001b[1;31mThe Kernel crashed while executing code in the current cell or a previous cell. \n",
      "\u001b[1;31mPlease review the code in the cell(s) to identify a possible cause of the failure. \n",
      "\u001b[1;31mClick <a href='https://aka.ms/vscodeJupyterKernelCrash'>here</a> for more info. \n",
      "\u001b[1;31mView Jupyter <a href='command:jupyter.viewOutput'>log</a> for further details."
     ]
    }
   ],
   "source": [
    "cal = Calculator()\n",
    "cal.add(3).mul(3).divide(2).sub(3)\n",
    "print(cal.value)"
   ]
  },
  {
   "cell_type": "code",
   "execution_count": null,
   "id": "d11e6b3b",
   "metadata": {},
   "outputs": [],
   "source": []
  }
 ],
 "metadata": {
  "kernelspec": {
   "display_name": "Python 3",
   "language": "python",
   "name": "python3"
  },
  "language_info": {
   "codemirror_mode": {
    "name": "ipython",
    "version": 3
   },
   "file_extension": ".py",
   "mimetype": "text/x-python",
   "name": "python",
   "nbconvert_exporter": "python",
   "pygments_lexer": "ipython3",
   "version": "3.13.0"
  }
 },
 "nbformat": 4,
 "nbformat_minor": 5
}
