{
 "cells": [
  {
   "cell_type": "code",
   "execution_count": 4,
   "id": "e01ef3cc",
   "metadata": {},
   "outputs": [],
   "source": [
    "import sqlite3"
   ]
  },
  {
   "cell_type": "code",
   "execution_count": 5,
   "id": "4125566e",
   "metadata": {},
   "outputs": [],
   "source": [
    "## connect to an Sqlite database\n",
    "connection = sqlite3.connect('expample.db')"
   ]
  },
  {
   "cell_type": "code",
   "execution_count": 6,
   "id": "4bd32cd8",
   "metadata": {},
   "outputs": [],
   "source": [
    "cursor = connection.cursor()"
   ]
  },
  {
   "cell_type": "code",
   "execution_count": 8,
   "id": "980d87cd",
   "metadata": {},
   "outputs": [],
   "source": [
    "### Create a Table\n",
    "cursor.execute('''\n",
    "Create Table If Not Exists employess(\n",
    "    id Integer Primary Key,\n",
    "    name Text Not Null,\n",
    "    age Integer,\n",
    "    department text\n",
    "    )\n",
    "               ''')\n",
    "\n",
    "### commit the changes\n",
    "connection.commit()"
   ]
  },
  {
   "cell_type": "code",
   "execution_count": 9,
   "id": "f1ff8992",
   "metadata": {},
   "outputs": [
    {
     "data": {
      "text/plain": [
       "<sqlite3.Cursor at 0x2281ad1f9c0>"
      ]
     },
     "execution_count": 9,
     "metadata": {},
     "output_type": "execute_result"
    }
   ],
   "source": [
    "cursor.execute('''\n",
    "    select * from employess\n",
    "               ''')"
   ]
  },
  {
   "cell_type": "code",
   "execution_count": 12,
   "id": "81a45a31",
   "metadata": {},
   "outputs": [],
   "source": [
    "## Inter the data in sqlite table\n",
    "cursor.execute('''\n",
    "Insert Into employess(name,age,department)\n",
    "            values('Krish', 32, 'Data Scientist')\n",
    "''')\n",
    "\n",
    "cursor.execute('''\n",
    "Insert Into employess(name,age,department)\n",
    "            values('bob', 32, 'Builder')                          \n",
    "''')\n",
    "\n",
    "cursor.execute('''\n",
    "Insert Into employess(name,age,department)\n",
    "            values('Batman', 32, 'Super Hero')\n",
    "''')\n",
    "\n",
    "connection.commit()"
   ]
  },
  {
   "cell_type": "code",
   "execution_count": 14,
   "id": "bedbde24",
   "metadata": {},
   "outputs": [
    {
     "name": "stdout",
     "output_type": "stream",
     "text": [
      "(1, 'Krish', 32, 'Data Scientist')\n",
      "(2, 'bob', 32, 'Builder')\n",
      "(3, 'Batman', 32, 'Super Hero')\n",
      "(4, 'Krish', 32, 'Data Scientist')\n",
      "(5, 'bob', 32, 'Builder')\n",
      "(6, 'Batman', 32, 'Super Hero')\n"
     ]
    }
   ],
   "source": [
    "cursor.execute('Select * from employess')\n",
    "rows = cursor.fetchall()\n",
    "\n",
    "## print the queried data\n",
    "\n",
    "for row in rows:\n",
    "    print(row)"
   ]
  },
  {
   "cell_type": "code",
   "execution_count": 15,
   "id": "5f37f1b0",
   "metadata": {},
   "outputs": [],
   "source": [
    "## Update the data in table\n",
    "cursor.execute(\n",
    "    '''\n",
    "    UPDATE employess\n",
    "    Set age= 34\n",
    "    where name = 'Krish'\n",
    "    '''\n",
    ")\n",
    "connection.commit()"
   ]
  },
  {
   "cell_type": "code",
   "execution_count": 16,
   "id": "57234d15",
   "metadata": {},
   "outputs": [
    {
     "name": "stdout",
     "output_type": "stream",
     "text": [
      "(1, 'Krish', 34, 'Data Scientist')\n",
      "(2, 'bob', 32, 'Builder')\n",
      "(3, 'Batman', 32, 'Super Hero')\n",
      "(4, 'Krish', 34, 'Data Scientist')\n",
      "(5, 'bob', 32, 'Builder')\n",
      "(6, 'Batman', 32, 'Super Hero')\n"
     ]
    }
   ],
   "source": [
    "cursor.execute('Select * from employess')\n",
    "rows = cursor.fetchall()\n",
    "\n",
    "## print the queried data\n",
    "\n",
    "for row in rows:\n",
    "    print(row)"
   ]
  },
  {
   "cell_type": "code",
   "execution_count": 17,
   "id": "38439e3f",
   "metadata": {},
   "outputs": [],
   "source": [
    "## Delete the data from the table\n",
    "\n",
    "cursor.execute('''\n",
    "    Delete from employess\n",
    "    where name = 'bob'\n",
    "    '''\n",
    ")\n",
    "connection.commit()"
   ]
  },
  {
   "cell_type": "code",
   "execution_count": 21,
   "id": "f1a9a163",
   "metadata": {},
   "outputs": [],
   "source": [
    "## Working with Sales Data\n",
    "# Connect to an SQLite database\n",
    "connection = sqlite3.connect('sales_data.db')\n",
    "cursor = connection.cursor()\n",
    "\n",
    "# Create a table for sales data\n",
    "cursor.execute('''\n",
    "               CREATE TABLE IF NOT EXISTS sales (\n",
    "                   id INTEGER PRIMARY KEY,\n",
    "                   date TEXT NOT NULL,\n",
    "                   product TEXT NOT NULL,\n",
    "                   sales INTEGER,\n",
    "                   region TEXT\n",
    "               )\n",
    "               ''')\n",
    "## Insert data into the sales table\n",
    "sale_data = [\n",
    "    ('2023-01-01', 'Product1', 100, 'North'),\n",
    "    ('2023-01-02', 'Product2', 200, 'South'),\n",
    "    ('2023-01-03', 'Product1', 150, 'East'),\n",
    "    ('2023-01-04', 'Product3', 250, 'West'),\n",
    "    ('2023-01-05', 'Product2', 300, 'North')\n",
    "]\n",
    "\n",
    "cursor.executemany('''\n",
    "   Insert into sales(date, product, sales, region)\n",
    "                    values(?,?,?,?)                \n",
    "''', sale_data )\n",
    "connection.commit()"
   ]
  },
  {
   "cell_type": "code",
   "execution_count": 22,
   "id": "f36bf5f2",
   "metadata": {},
   "outputs": [
    {
     "name": "stdout",
     "output_type": "stream",
     "text": [
      "(1, '2023-01-01', 'Product1', 100, 'North')\n",
      "(2, '2023-01-02', 'Product2', 200, 'South')\n",
      "(3, '2023-01-03', 'Product1', 150, 'East')\n",
      "(4, '2023-01-04', 'Product3', 250, 'West')\n",
      "(5, '2023-01-05', 'Product2', 300, 'North')\n"
     ]
    }
   ],
   "source": [
    "cursor.execute('SELECT * FROM sales')\n",
    "rows = cursor.fetchall()\n",
    "\n",
    "for row in rows:\n",
    "    print(row)"
   ]
  },
  {
   "cell_type": "code",
   "execution_count": 23,
   "id": "28219bb5",
   "metadata": {},
   "outputs": [],
   "source": [
    "## close the connection\n",
    "connection.close()"
   ]
  },
  {
   "cell_type": "code",
   "execution_count": null,
   "id": "0e115c8d",
   "metadata": {},
   "outputs": [],
   "source": []
  }
 ],
 "metadata": {
  "kernelspec": {
   "display_name": "Python 3",
   "language": "python",
   "name": "python3"
  },
  "language_info": {
   "codemirror_mode": {
    "name": "ipython",
    "version": 3
   },
   "file_extension": ".py",
   "mimetype": "text/x-python",
   "name": "python",
   "nbconvert_exporter": "python",
   "pygments_lexer": "ipython3",
   "version": "3.13.0"
  }
 },
 "nbformat": 4,
 "nbformat_minor": 5
}
