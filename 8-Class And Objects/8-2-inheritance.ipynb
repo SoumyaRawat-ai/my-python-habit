{
 "cells": [
  {
   "cell_type": "code",
   "execution_count": 15,
   "id": "7649b039",
   "metadata": {},
   "outputs": [],
   "source": [
    "## Inheritance\n",
    "\n",
    "## Parent class\n",
    "\n",
    "class Car:\n",
    "    def __init__(self, window, doors,engine_type):\n",
    "        self.window = window\n",
    "        self.doors = doors\n",
    "        self.engine_type = engine_type\n",
    "    \n",
    "    def drive(self):\n",
    "        print(f\"The person will drive the {self.engine_type} car \")"
   ]
  },
  {
   "cell_type": "code",
   "execution_count": 4,
   "id": "9232360e",
   "metadata": {},
   "outputs": [
    {
     "name": "stdout",
     "output_type": "stream",
     "text": [
      "The person will drive the petrol car \n"
     ]
    }
   ],
   "source": [
    "car1 = Car(4, 5, \"petrol\")\n",
    "car1.drive()"
   ]
  },
  {
   "cell_type": "code",
   "execution_count": 16,
   "id": "3263490d",
   "metadata": {},
   "outputs": [],
   "source": [
    "class Tesla(Car):\n",
    "    def __init__(self, window, doors, engine_type, is_selfdriving):\n",
    "        super().__init__(window, doors, engine_type)\n",
    "        self.is_selfdriving = is_selfdriving\n",
    "    def selfdriving(self):\n",
    "        print(f\"Tesla support self driving : {self.is_selfdriving}\")"
   ]
  },
  {
   "cell_type": "code",
   "execution_count": 18,
   "id": "54958656",
   "metadata": {},
   "outputs": [
    {
     "name": "stdout",
     "output_type": "stream",
     "text": [
      "Tesla support self driving : True\n",
      "4\n"
     ]
    }
   ],
   "source": [
    "tesla1 = Tesla(4, 4, \"Electric\", True)\n",
    "tesla1.selfdriving()\n",
    "print(tesla1.doors)\n"
   ]
  },
  {
   "cell_type": "code",
   "execution_count": 20,
   "id": "740cb3c8",
   "metadata": {},
   "outputs": [
    {
     "name": "stdout",
     "output_type": "stream",
     "text": [
      "The person will drive the Electric car \n"
     ]
    }
   ],
   "source": [
    "tesla1.drive()"
   ]
  },
  {
   "cell_type": "code",
   "execution_count": 28,
   "id": "d12445ea",
   "metadata": {},
   "outputs": [],
   "source": [
    "#Multiple Inheritance\n",
    "# when a class inherits from more than one base class.\n",
    "\n",
    "# Base class 1\n",
    "class Animal:\n",
    "    def __init__(self, name):\n",
    "        self.name = name\n",
    "    def speak(self):\n",
    "        print(\"sub class must implement this method\")\n",
    "\n",
    "\n",
    "# Base class 2\n",
    "class Pet:\n",
    "    def __init__(self, owner):\n",
    "        self.owner = owner\n",
    "\n",
    "class Dog(Animal,Pet):\n",
    "    def __init__(self, name, owner):\n",
    "       Animal.__init__(self, name)\n",
    "       Pet.__init__(self, owner)\n",
    "    def speak(self):\n",
    "        return f'{self.name} say woof'"
   ]
  },
  {
   "cell_type": "code",
   "execution_count": 31,
   "id": "14de7506",
   "metadata": {},
   "outputs": [
    {
     "name": "stdout",
     "output_type": "stream",
     "text": [
      "Pup say woof\n",
      "owner: Mukesh\n"
     ]
    }
   ],
   "source": [
    "pup = Dog('Pup', 'Mukesh')\n",
    "print(pup.speak())\n",
    "print(f\"owner: {pup.owner}\")"
   ]
  },
  {
   "cell_type": "code",
   "execution_count": null,
   "id": "9a9c0121",
   "metadata": {},
   "outputs": [],
   "source": []
  }
 ],
 "metadata": {
  "kernelspec": {
   "display_name": "Python 3",
   "language": "python",
   "name": "python3"
  },
  "language_info": {
   "codemirror_mode": {
    "name": "ipython",
    "version": 3
   },
   "file_extension": ".py",
   "mimetype": "text/x-python",
   "name": "python",
   "nbconvert_exporter": "python",
   "pygments_lexer": "ipython3",
   "version": "3.13.0"
  }
 },
 "nbformat": 4,
 "nbformat_minor": 5
}
