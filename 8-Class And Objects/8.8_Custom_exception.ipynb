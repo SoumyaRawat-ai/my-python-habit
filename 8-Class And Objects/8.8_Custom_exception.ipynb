{
 "cells": [
  {
   "cell_type": "markdown",
   "id": "8d189083",
   "metadata": {},
   "source": [
    "#### Custom exception (Raise and Throw an exception)"
   ]
  },
  {
   "cell_type": "code",
   "execution_count": 2,
   "id": "8cdfcef3",
   "metadata": {},
   "outputs": [],
   "source": [
    "class Error(Exception):\n",
    "    pass\n",
    "\n",
    "class dobException(Error):\n",
    "    pass"
   ]
  },
  {
   "cell_type": "code",
   "execution_count": 4,
   "id": "ad97f8d3",
   "metadata": {},
   "outputs": [
    {
     "name": "stdout",
     "output_type": "stream",
     "text": [
      "Sorry, your age should be greater 20 or less than 30\n"
     ]
    }
   ],
   "source": [
    "Year = int(input(\"Enter the dob\"))\n",
    "age = 2024- Year\n",
    "\n",
    "try:\n",
    "    if age <= 30 and age >= 20:\n",
    "        print(\"The age is valid you can apply for the exam\")\n",
    "    else:\n",
    "        raise dobException\n",
    "except dobException:\n",
    "    print(\"Sorry, your age should be greater 20 or less than 30\")"
   ]
  },
  {
   "cell_type": "code",
   "execution_count": 2,
   "id": "f1a0b5f1",
   "metadata": {},
   "outputs": [],
   "source": [
    "def celsius_to_fahrenheit(C):\n",
    "    \"\"\"\n",
    "    Function to convert temperature from Celsius to Fahrenheit.\n",
    "    \n",
    "    Parameters:\n",
    "    C (float): The temperature in Celsius.\n",
    "    \n",
    "    Returns:\n",
    "    float: The temperature in Fahrenheit.\n",
    "    \"\"\"\n",
    "    # Your code here\n",
    "    F = (9/5 * c) + 32\n",
    "    return F"
   ]
  },
  {
   "cell_type": "code",
   "execution_count": 6,
   "id": "27e2a187",
   "metadata": {},
   "outputs": [
    {
     "name": "stdout",
     "output_type": "stream",
     "text": [
      "[2, 3, 4, 5, 1, 2, 4, 5, 6]\n"
     ]
    }
   ],
   "source": [
    "lst = [2, 3, 4, 5]\n",
    "lst2 = [1, 2, 4, 5, 6]\n",
    "lst3 = lst + lst2\n",
    "print(lst3)"
   ]
  },
  {
   "cell_type": "code",
   "execution_count": 15,
   "id": "ecd1ec03",
   "metadata": {},
   "outputs": [
    {
     "name": "stdout",
     "output_type": "stream",
     "text": [
      "[4, 5, 6, 2, 3, 4, 5, 1, 2]\n"
     ]
    }
   ],
   "source": [
    "lst4 = lst3[-3:] + lst3[:-3]\n",
    "print(lst4)"
   ]
  },
  {
   "cell_type": "code",
   "execution_count": null,
   "id": "29639b01",
   "metadata": {},
   "outputs": [],
   "source": [
    "di"
   ]
  }
 ],
 "metadata": {
  "kernelspec": {
   "display_name": "Python 3",
   "language": "python",
   "name": "python3"
  },
  "language_info": {
   "codemirror_mode": {
    "name": "ipython",
    "version": 3
   },
   "file_extension": ".py",
   "mimetype": "text/x-python",
   "name": "python",
   "nbconvert_exporter": "python",
   "pygments_lexer": "ipython3",
   "version": "3.13.0"
  }
 },
 "nbformat": 4,
 "nbformat_minor": 5
}
