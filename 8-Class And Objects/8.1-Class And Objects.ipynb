{
 "cells": [
  {
   "cell_type": "code",
   "execution_count": 4,
   "id": "dccc7e0c",
   "metadata": {},
   "outputs": [
    {
     "name": "stdout",
     "output_type": "stream",
     "text": [
      "<class '__main__.Car'>\n"
     ]
    }
   ],
   "source": [
    "# A class is blue print for creating objects. Attributes, methods\n",
    "class Car:\n",
    "    pass\n",
    "\n",
    "audi = Car()\n",
    "bmw = Car()\n",
    "\n",
    "print(type(audi))"
   ]
  },
  {
   "cell_type": "code",
   "execution_count": 5,
   "id": "42860dad",
   "metadata": {},
   "outputs": [
    {
     "name": "stdout",
     "output_type": "stream",
     "text": [
      "<__main__.Car object at 0x0000016B6BEBD010>\n",
      "<__main__.Car object at 0x0000016B6ACD74D0>\n"
     ]
    }
   ],
   "source": [
    "print(audi)\n",
    "print(bmw)"
   ]
  },
  {
   "cell_type": "code",
   "execution_count": null,
   "id": "8b89bb6c",
   "metadata": {},
   "outputs": [
    {
     "name": "stdout",
     "output_type": "stream",
     "text": [
      "4\n"
     ]
    }
   ],
   "source": [
    "audi.windows = 4\n",
    "\n",
    "print(audi.windows)"
   ]
  },
  {
   "cell_type": "code",
   "execution_count": 7,
   "id": "29c314c6",
   "metadata": {},
   "outputs": [
    {
     "ename": "AttributeError",
     "evalue": "'Car' object has no attribute 'window'",
     "output_type": "error",
     "traceback": [
      "\u001b[1;31m---------------------------------------------------------------------------\u001b[0m",
      "\u001b[1;31mAttributeError\u001b[0m                            Traceback (most recent call last)",
      "Cell \u001b[1;32mIn[7], line 3\u001b[0m\n\u001b[0;32m      1\u001b[0m tata \u001b[38;5;241m=\u001b[39m Car()\n\u001b[0;32m      2\u001b[0m tata\u001b[38;5;241m.\u001b[39mdoors \u001b[38;5;241m=\u001b[39m \u001b[38;5;241m4\u001b[39m\n\u001b[1;32m----> 3\u001b[0m \u001b[38;5;28mprint\u001b[39m(\u001b[43mtata\u001b[49m\u001b[38;5;241;43m.\u001b[39;49m\u001b[43mwindow\u001b[49m)\n",
      "\u001b[1;31mAttributeError\u001b[0m: 'Car' object has no attribute 'window'"
     ]
    }
   ],
   "source": [
    "tata = Car()\n",
    "tata.doors = 4\n",
    "print(tata.window)"
   ]
  },
  {
   "cell_type": "code",
   "execution_count": 8,
   "id": "fe7d2220",
   "metadata": {},
   "outputs": [
    {
     "data": {
      "text/plain": [
       "['__class__',\n",
       " '__delattr__',\n",
       " '__dict__',\n",
       " '__dir__',\n",
       " '__doc__',\n",
       " '__eq__',\n",
       " '__firstlineno__',\n",
       " '__format__',\n",
       " '__ge__',\n",
       " '__getattribute__',\n",
       " '__getstate__',\n",
       " '__gt__',\n",
       " '__hash__',\n",
       " '__init__',\n",
       " '__init_subclass__',\n",
       " '__le__',\n",
       " '__lt__',\n",
       " '__module__',\n",
       " '__ne__',\n",
       " '__new__',\n",
       " '__reduce__',\n",
       " '__reduce_ex__',\n",
       " '__repr__',\n",
       " '__setattr__',\n",
       " '__sizeof__',\n",
       " '__static_attributes__',\n",
       " '__str__',\n",
       " '__subclasshook__',\n",
       " '__weakref__',\n",
       " 'doors']"
      ]
     },
     "execution_count": 8,
     "metadata": {},
     "output_type": "execute_result"
    }
   ],
   "source": [
    "dir(tata)"
   ]
  },
  {
   "cell_type": "code",
   "execution_count": 18,
   "id": "7e67c763",
   "metadata": {},
   "outputs": [],
   "source": [
    "### Instance Variable and method\n",
    "class Dog:\n",
    "    ## constructor\n",
    "    def __init__(self, name, age):\n",
    "        self.name = name\n",
    "        self.age = age\n",
    "    \n",
    "    def bark(self):\n",
    "        print(f\"{self.name} says woof\")"
   ]
  },
  {
   "cell_type": "code",
   "execution_count": 20,
   "id": "36e15d03",
   "metadata": {},
   "outputs": [
    {
     "name": "stdout",
     "output_type": "stream",
     "text": [
      "Alex says woof\n",
      "5\n",
      "lucy says woof\n"
     ]
    }
   ],
   "source": [
    "puppy = Dog('Alex', 5)\n",
    "puppy.bark()\n",
    "print(puppy.age)\n",
    "dog2 = Dog('lucy', 4)\n",
    "dog2.bark()"
   ]
  },
  {
   "cell_type": "code",
   "execution_count": 38,
   "id": "f70ff06d",
   "metadata": {},
   "outputs": [],
   "source": [
    "## Modeling a back account\n",
    "\n",
    "# define a class for a bank account\n",
    "class BankAccounts:\n",
    "    def __init__(self, owner):\n",
    "        self.owner = owner\n",
    "        self.balance = 0\n",
    "    \n",
    "    def deposit(self,amount):\n",
    "        self.balance += amount\n",
    "        print(f'your {amount} is deposit') \n",
    "    \n",
    "    def withdraw(self, withdraw):\n",
    "        if self.balance > withdraw:\n",
    "            self.balance -= withdraw\n",
    "            print(f'{withdraw} has been withdraw')\n",
    "        else:\n",
    "            print(f'{self.owner} your balance is low')\n",
    "    \n",
    "    def check_balance(self):\n",
    "        print(self.balance)\n",
    "    \n"
   ]
  },
  {
   "cell_type": "code",
   "execution_count": 39,
   "id": "eda85ef8",
   "metadata": {},
   "outputs": [
    {
     "name": "stdout",
     "output_type": "stream",
     "text": [
      "your 3000 is deposit\n",
      "Rohan your balance is low\n",
      "your 4000 is deposit\n",
      "3000 has been withdraw\n",
      "4000\n"
     ]
    }
   ],
   "source": [
    "bank = BankAccounts('Rohan')\n",
    "bank.deposit(3000)\n",
    "bank.withdraw(5000)\n",
    "bank.deposit(4000)\n",
    "bank.withdraw(3000)\n",
    "bank.check_balance()"
   ]
  },
  {
   "cell_type": "code",
   "execution_count": null,
   "id": "97ff29ff",
   "metadata": {},
   "outputs": [],
   "source": []
  }
 ],
 "metadata": {
  "kernelspec": {
   "display_name": "Python 3",
   "language": "python",
   "name": "python3"
  },
  "language_info": {
   "codemirror_mode": {
    "name": "ipython",
    "version": 3
   },
   "file_extension": ".py",
   "mimetype": "text/x-python",
   "name": "python",
   "nbconvert_exporter": "python",
   "pygments_lexer": "ipython3",
   "version": "3.13.0"
  }
 },
 "nbformat": 4,
 "nbformat_minor": 5
}
