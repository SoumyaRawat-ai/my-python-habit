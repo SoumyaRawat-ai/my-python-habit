{
 "cells": [
  {
   "cell_type": "code",
   "execution_count": null,
   "metadata": {},
   "outputs": [
    {
     "name": "stdout",
     "output_type": "stream",
     "text": [
      "You are allowed to vote in the election\n"
     ]
    }
   ],
   "source": [
    "## if statement\n",
    "age=20\n",
    "\n",
    "if age>=18:\n",
    "    print(\"You are allowed to vote in the election\")\n",
    "else: \n",
    "    print(\" you can not vote\")"
   ]
  },
  {
   "cell_type": "code",
   "execution_count": 2,
   "metadata": {},
   "outputs": [
    {
     "name": "stdout",
     "output_type": "stream",
     "text": [
      "You are a minor\n"
     ]
    }
   ],
   "source": [
    "## else\n",
    "## the else statement executes a block if the condition in the statement is false\n",
    "\n",
    "age = 16\n",
    "\n",
    "if age>=18:\n",
    "    print(\"You are eligible for voting\")\n",
    "else:\n",
    "    print(\"You are a minor\")"
   ]
  },
  {
   "cell_type": "code",
   "execution_count": 3,
   "metadata": {},
   "outputs": [
    {
     "name": "stdout",
     "output_type": "stream",
     "text": [
      "You are an adult\n"
     ]
    }
   ],
   "source": [
    "## elif \n",
    "## the elif statement allows you to check multiple conditions. It stands for \"else if\"\n",
    "\n",
    "age  = 20\n",
    "\n",
    "if age<13:\n",
    "    print(\"you are a child\")\n",
    "elif age<18:\n",
    "    print(\"You are a teenager\")\n",
    "else:\n",
    "    print(\"You are an adult\")"
   ]
  },
  {
   "cell_type": "code",
   "execution_count": null,
   "metadata": {},
   "outputs": [
    {
     "name": "stdout",
     "output_type": "stream",
     "text": [
      "the number is zero or negative\n"
     ]
    }
   ],
   "source": [
    "## Nested conditional statements\n",
    "\n",
    "# you can place one or more if, elif or else statements inside another if, elif, or else statement\n",
    "\n",
    "## number even , odd, negative\n",
    "\n",
    "num = int(input(\"enter a number\"))\n",
    "\n",
    "if num>0:\n",
    "    print(\"the number is positive\")\n",
    "    if num%2==0:\n",
    "        print(\"the number is even\")\n",
    "    else:\n",
    "        print(\"the number is odd\")\n",
    "else:\n",
    "    print(\"the number is zero or negative\")\n"
   ]
  },
  {
   "cell_type": "code",
   "execution_count": null,
   "metadata": {},
   "outputs": [
    {
     "name": "stdout",
     "output_type": "stream",
     "text": [
      "Enter a valid Year\n"
     ]
    }
   ],
   "source": [
    "## Practical Examples\n",
    "\n",
    "## Determine is a year is a leap year using nested condition statement\n",
    "\n",
    "year = int(input(\"Enter your year\"))\n",
    "if year<1000:\n",
    "    print(\"Enter a valid Year\")\n",
    "else:\n",
    "    if year%4==0:\n",
    "        print(year, \"is a leap year\")\n",
    "    else :\n",
    "        print(year, \"is not a leap year\")"
   ]
  },
  {
   "cell_type": "code",
   "execution_count": 4,
   "metadata": {},
   "outputs": [
    {
     "name": "stdout",
     "output_type": "stream",
     "text": [
      "50.0\n"
     ]
    }
   ],
   "source": [
    "num1 = float(input(\"Enter first number\"))\n",
    "num2 = float(input(\"Enter second number\"))\n",
    "opreat = (input(\"enter a operator eg.. + - / * \"))\n",
    "\n",
    "if opreat== \"+\":\n",
    "    print(num1 + num2)\n",
    "if opreat== \"-\":\n",
    "    print(num1-num2)\n",
    "if opreat== \"*\":\n",
    "    print(num1*num2)\n",
    "if opreat== \"/\":\n",
    "    print(num1/num2)\n",
    "else:\n",
    "    (\"enter a valid operator\")"
   ]
  },
  {
   "cell_type": "code",
   "execution_count": 3,
   "metadata": {},
   "outputs": [
    {
     "name": "stdout",
     "output_type": "stream",
     "text": [
      "soumya your ticket cost is $10\n"
     ]
    }
   ],
   "source": [
    "name = str(input(\"Enter your name\"))\n",
    "age = int(input(\"enter your age\"))\n",
    "\n",
    "if age<6:\n",
    "    print(name, \"your ticket is free\")\n",
    "if age <=16:\n",
    "    print(name, \"Your ticket cost is $2\")\n",
    "if age<=18:\n",
    "     print(name, \"Your ticket cost is $5\")\n",
    "if age> 18:\n",
    "    print(name, \"your ticket cost is $10\")\n",
    "if age >=60:\n",
    "     print(name, \"Your ticket is free\")\n"
   ]
  },
  {
   "cell_type": "code",
   "execution_count": null,
   "metadata": {},
   "outputs": [],
   "source": [
    "\n"
   ]
  },
  {
   "cell_type": "code",
   "execution_count": null,
   "metadata": {},
   "outputs": [],
   "source": [
    "3"
   ]
  }
 ],
 "metadata": {
  "kernelspec": {
   "display_name": "Python 3",
   "language": "python",
   "name": "python3"
  },
  "language_info": {
   "codemirror_mode": {
    "name": "ipython",
    "version": 3
   },
   "file_extension": ".py",
   "mimetype": "text/x-python",
   "name": "python",
   "nbconvert_exporter": "python",
   "pygments_lexer": "ipython3",
   "version": "3.13.0"
  }
 },
 "nbformat": 4,
 "nbformat_minor": 2
}
